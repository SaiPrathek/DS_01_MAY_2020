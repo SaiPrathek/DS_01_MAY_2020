{
 "cells": [
  {
   "cell_type": "markdown",
   "metadata": {},
   "source": [
    "# Customer Segmentation using KMeans"
   ]
  },
  {
   "cell_type": "markdown",
   "metadata": {
    "button": false,
    "deletable": true,
    "new_sheet": false,
    "run_control": {
     "read_only": false
    }
   },
   "source": [
    "### Import libraries"
   ]
  },
  {
   "cell_type": "code",
   "execution_count": 11,
   "metadata": {
    "button": false,
    "deletable": true,
    "new_sheet": false,
    "run_control": {
     "read_only": false
    }
   },
   "outputs": [],
   "source": [
    "import random \n",
    "import numpy as np \n",
    "import pandas as pd\n",
    "import matplotlib.pyplot as plt \n",
    "from sklearn.cluster import KMeans \n",
    "%matplotlib inline"
   ]
  },
  {
   "cell_type": "markdown",
   "metadata": {
    "button": false,
    "deletable": true,
    "new_sheet": false,
    "run_control": {
     "read_only": false
    }
   },
   "source": [
    "### Load Data From CSV File  "
   ]
  },
  {
   "cell_type": "code",
   "execution_count": 12,
   "metadata": {
    "button": false,
    "collapsed": false,
    "deletable": true,
    "jupyter": {
     "outputs_hidden": false
    },
    "new_sheet": false,
    "run_control": {
     "read_only": false
    }
   },
   "outputs": [
    {
     "data": {
      "text/html": [
       "<div>\n",
       "<style scoped>\n",
       "    .dataframe tbody tr th:only-of-type {\n",
       "        vertical-align: middle;\n",
       "    }\n",
       "\n",
       "    .dataframe tbody tr th {\n",
       "        vertical-align: top;\n",
       "    }\n",
       "\n",
       "    .dataframe thead th {\n",
       "        text-align: right;\n",
       "    }\n",
       "</style>\n",
       "<table border=\"1\" class=\"dataframe\">\n",
       "  <thead>\n",
       "    <tr style=\"text-align: right;\">\n",
       "      <th></th>\n",
       "      <th>Customer Id</th>\n",
       "      <th>Age</th>\n",
       "      <th>Edu</th>\n",
       "      <th>Years Employed</th>\n",
       "      <th>Income</th>\n",
       "      <th>Card Debt</th>\n",
       "      <th>Other Debt</th>\n",
       "      <th>Defaulted</th>\n",
       "      <th>Address</th>\n",
       "      <th>DebtIncomeRatio</th>\n",
       "    </tr>\n",
       "  </thead>\n",
       "  <tbody>\n",
       "    <tr>\n",
       "      <th>0</th>\n",
       "      <td>1</td>\n",
       "      <td>41</td>\n",
       "      <td>2</td>\n",
       "      <td>6</td>\n",
       "      <td>19</td>\n",
       "      <td>0.124</td>\n",
       "      <td>1.073</td>\n",
       "      <td>0.0</td>\n",
       "      <td>NBA001</td>\n",
       "      <td>6.3</td>\n",
       "    </tr>\n",
       "    <tr>\n",
       "      <th>1</th>\n",
       "      <td>2</td>\n",
       "      <td>47</td>\n",
       "      <td>1</td>\n",
       "      <td>26</td>\n",
       "      <td>100</td>\n",
       "      <td>4.582</td>\n",
       "      <td>8.218</td>\n",
       "      <td>0.0</td>\n",
       "      <td>NBA021</td>\n",
       "      <td>12.8</td>\n",
       "    </tr>\n",
       "    <tr>\n",
       "      <th>2</th>\n",
       "      <td>3</td>\n",
       "      <td>33</td>\n",
       "      <td>2</td>\n",
       "      <td>10</td>\n",
       "      <td>57</td>\n",
       "      <td>6.111</td>\n",
       "      <td>5.802</td>\n",
       "      <td>1.0</td>\n",
       "      <td>NBA013</td>\n",
       "      <td>20.9</td>\n",
       "    </tr>\n",
       "    <tr>\n",
       "      <th>3</th>\n",
       "      <td>4</td>\n",
       "      <td>29</td>\n",
       "      <td>2</td>\n",
       "      <td>4</td>\n",
       "      <td>19</td>\n",
       "      <td>0.681</td>\n",
       "      <td>0.516</td>\n",
       "      <td>0.0</td>\n",
       "      <td>NBA009</td>\n",
       "      <td>6.3</td>\n",
       "    </tr>\n",
       "    <tr>\n",
       "      <th>4</th>\n",
       "      <td>5</td>\n",
       "      <td>47</td>\n",
       "      <td>1</td>\n",
       "      <td>31</td>\n",
       "      <td>253</td>\n",
       "      <td>9.308</td>\n",
       "      <td>8.908</td>\n",
       "      <td>0.0</td>\n",
       "      <td>NBA008</td>\n",
       "      <td>7.2</td>\n",
       "    </tr>\n",
       "  </tbody>\n",
       "</table>\n",
       "</div>"
      ],
      "text/plain": [
       "   Customer Id  Age  Edu  Years Employed  Income  Card Debt  Other Debt  \\\n",
       "0            1   41    2               6      19      0.124       1.073   \n",
       "1            2   47    1              26     100      4.582       8.218   \n",
       "2            3   33    2              10      57      6.111       5.802   \n",
       "3            4   29    2               4      19      0.681       0.516   \n",
       "4            5   47    1              31     253      9.308       8.908   \n",
       "\n",
       "   Defaulted Address  DebtIncomeRatio  \n",
       "0        0.0  NBA001              6.3  \n",
       "1        0.0  NBA021             12.8  \n",
       "2        1.0  NBA013             20.9  \n",
       "3        0.0  NBA009              6.3  \n",
       "4        0.0  NBA008              7.2  "
      ]
     },
     "execution_count": 12,
     "metadata": {},
     "output_type": "execute_result"
    }
   ],
   "source": [
    "df = pd.read_csv(\"customers.csv\")\n",
    "df.head()"
   ]
  },
  {
   "cell_type": "markdown",
   "metadata": {},
   "source": [
    "### Pre-processing"
   ]
  },
  {
   "cell_type": "code",
   "execution_count": 13,
   "metadata": {
    "button": false,
    "collapsed": false,
    "deletable": true,
    "jupyter": {
     "outputs_hidden": false
    },
    "new_sheet": false,
    "run_control": {
     "read_only": false
    }
   },
   "outputs": [
    {
     "data": {
      "text/html": [
       "<div>\n",
       "<style scoped>\n",
       "    .dataframe tbody tr th:only-of-type {\n",
       "        vertical-align: middle;\n",
       "    }\n",
       "\n",
       "    .dataframe tbody tr th {\n",
       "        vertical-align: top;\n",
       "    }\n",
       "\n",
       "    .dataframe thead th {\n",
       "        text-align: right;\n",
       "    }\n",
       "</style>\n",
       "<table border=\"1\" class=\"dataframe\">\n",
       "  <thead>\n",
       "    <tr style=\"text-align: right;\">\n",
       "      <th></th>\n",
       "      <th>Age</th>\n",
       "      <th>Income</th>\n",
       "    </tr>\n",
       "  </thead>\n",
       "  <tbody>\n",
       "    <tr>\n",
       "      <th>0</th>\n",
       "      <td>41</td>\n",
       "      <td>19</td>\n",
       "    </tr>\n",
       "    <tr>\n",
       "      <th>1</th>\n",
       "      <td>47</td>\n",
       "      <td>100</td>\n",
       "    </tr>\n",
       "    <tr>\n",
       "      <th>2</th>\n",
       "      <td>33</td>\n",
       "      <td>57</td>\n",
       "    </tr>\n",
       "    <tr>\n",
       "      <th>3</th>\n",
       "      <td>29</td>\n",
       "      <td>19</td>\n",
       "    </tr>\n",
       "    <tr>\n",
       "      <th>4</th>\n",
       "      <td>47</td>\n",
       "      <td>253</td>\n",
       "    </tr>\n",
       "  </tbody>\n",
       "</table>\n",
       "</div>"
      ],
      "text/plain": [
       "   Age  Income\n",
       "0   41      19\n",
       "1   47     100\n",
       "2   33      57\n",
       "3   29      19\n",
       "4   47     253"
      ]
     },
     "execution_count": 13,
     "metadata": {},
     "output_type": "execute_result"
    }
   ],
   "source": [
    "df = df [['Age','Income']]\n",
    "df.head()"
   ]
  },
  {
   "cell_type": "code",
   "execution_count": 14,
   "metadata": {
    "button": false,
    "collapsed": false,
    "deletable": true,
    "jupyter": {
     "outputs_hidden": false
    },
    "new_sheet": false,
    "run_control": {
     "read_only": false
    }
   },
   "outputs": [
    {
     "data": {
      "text/html": [
       "<div>\n",
       "<style scoped>\n",
       "    .dataframe tbody tr th:only-of-type {\n",
       "        vertical-align: middle;\n",
       "    }\n",
       "\n",
       "    .dataframe tbody tr th {\n",
       "        vertical-align: top;\n",
       "    }\n",
       "\n",
       "    .dataframe thead th {\n",
       "        text-align: right;\n",
       "    }\n",
       "</style>\n",
       "<table border=\"1\" class=\"dataframe\">\n",
       "  <thead>\n",
       "    <tr style=\"text-align: right;\">\n",
       "      <th></th>\n",
       "      <th>Age</th>\n",
       "      <th>Income</th>\n",
       "    </tr>\n",
       "  </thead>\n",
       "  <tbody>\n",
       "    <tr>\n",
       "      <th>0</th>\n",
       "      <td>0.742915</td>\n",
       "      <td>-0.718459</td>\n",
       "    </tr>\n",
       "    <tr>\n",
       "      <th>1</th>\n",
       "      <td>1.489490</td>\n",
       "      <td>1.384325</td>\n",
       "    </tr>\n",
       "    <tr>\n",
       "      <th>2</th>\n",
       "      <td>-0.252518</td>\n",
       "      <td>0.268032</td>\n",
       "    </tr>\n",
       "    <tr>\n",
       "      <th>3</th>\n",
       "      <td>-0.750235</td>\n",
       "      <td>-0.718459</td>\n",
       "    </tr>\n",
       "    <tr>\n",
       "      <th>4</th>\n",
       "      <td>1.489490</td>\n",
       "      <td>5.356249</td>\n",
       "    </tr>\n",
       "  </tbody>\n",
       "</table>\n",
       "</div>"
      ],
      "text/plain": [
       "        Age    Income\n",
       "0  0.742915 -0.718459\n",
       "1  1.489490  1.384325\n",
       "2 -0.252518  0.268032\n",
       "3 -0.750235 -0.718459\n",
       "4  1.489490  5.356249"
      ]
     },
     "execution_count": 14,
     "metadata": {},
     "output_type": "execute_result"
    }
   ],
   "source": [
    "# Standarlize data\n",
    "from sklearn.preprocessing import scale\n",
    "df['Age'] = scale(df['Age'])\n",
    "df['Income'] = scale(df['Income'])\n",
    "df.head()"
   ]
  },
  {
   "cell_type": "markdown",
   "metadata": {},
   "source": [
    "### Modeling"
   ]
  },
  {
   "cell_type": "code",
   "execution_count": 22,
   "metadata": {
    "button": false,
    "collapsed": false,
    "deletable": true,
    "jupyter": {
     "outputs_hidden": false
    },
    "new_sheet": false,
    "run_control": {
     "read_only": false
    }
   },
   "outputs": [
    {
     "name": "stdout",
     "output_type": "stream",
     "text": [
      "[3 2 3 0 4 2 3 1 0 2 2 3 0 1 0 0 0 1 1 3 0 3 0 1 2 1 0 3 3 3 2 1 0 3 0 3 3\n",
      " 3 0 2 0 2 0 2 1 2 0 0 0 0 1 3 0 1 3 3 0 0 3 1 3 3 3 1 0 3 3 0 3 0 3 3 3 0\n",
      " 0 3 1 3 2 1 3 3 2 3 1 0 0 0 0 0 3 3 0 0 3 1 3 3 3 0 0 2 3 1 0 1 3 0 3 2 3\n",
      " 0 0 0 0 3 0 3 3 3 0 0 3 3 3 1 3 0 0 0 3 3 0 0 0 3 2 0 1 3 3 0 0 0 3 0 3 1\n",
      " 0 0 3 1 3 1 3 3 2 2 0 3 0 3 3 3 0 3 3 0 0 1 2 0 0 0 0 1 3 0 0 1 3 3 0 2 3\n",
      " 0 1 3 3 1 0 1 3 3 3 3 0 1 4 3 2 3 0 3 1 1 3 4 2 0 0 3 3 1 1 0 3 0 3 1 0 2\n",
      " 0 0 0 0 2 0 3 1 3 3 0 0 2 0 1 0 3 0 0 3 0 0 1 2 1 3 3 0 0 0 3 3 1 0 3 0 0\n",
      " 0 3 0 3 0 1 1 0 3 3 1 3 0 3 3 3 0 0 3 0 0 0 2 2 0 2 3 3 0 2 3 0 1 3 3 0 0\n",
      " 0 0 0 2 1 3 0 3 0 3 3 0 3 3 3 0 1 0 3 0 3 0 3 3 2 3 2 0 0 3 0 0 2 3 3 2 0\n",
      " 1 3 1 0 1 3 1 3 3 3 1 3 1 0 0 0 3 2 0 3 0 0 1 2 3 0 0 2 3 0 0 1 0 1 2 2 3\n",
      " 0 0 1 1 0 3 0 3 0 0 1 0 0 1 2 3 1 0 3 3 3 3 3 3 0 3 0 2 3 3 0 0 0 0 0 1 1\n",
      " 1 3 1 0 3 0 3 0 1 3 3 1 3 3 3 0 3 1 1 1 1 3 0 3 1 0 0 1 3 3 0 1 3 3 1 3 4\n",
      " 3 0 3 3 1 3 2 3 0 3 2 3 0 3 0 1 1 2 0 3 0 1 3 0 3 1 2 3 3 2 1 0 1 3 0 0 0\n",
      " 3 3 0 3 3 3 2 0 0 0 2 3 1 3 0 0 3 3 0 0 0 2 2 0 0 3 3 1 0 0 0 3 2 3 1 0 0\n",
      " 0 1 1 0 3 0 1 3 0 1 0 3 0 0 4 2 0 3 0 3 3 3 2 3 0 1 3 2 3 3 2 0 1 4 0 2 0\n",
      " 1 4 1 0 0 1 3 0 1 0 3 1 0 3 0 3 4 1 0 3 0 0 0 0 1 3 0 3 3 3 3 3 3 0 3 0 2\n",
      " 1 3 0 0 0 0 2 1 3 3 0 3 0 3 3 0 0 0 0 0 0 0 3 3 3 0 0 0 1 0 3 3 0 3 0 0 1\n",
      " 2 1 3 1 1 2 0 3 1 0 1 3 0 2 0 1 3 2 0 3 0 0 0 2 1 0 0 3 3 1 0 0 0 3 2 3 3\n",
      " 3 0 0 3 1 1 4 0 0 2 0 1 0 3 3 0 0 2 0 3 0 1 1 3 0 3 3 1 0 0 0 3 0 0 3 3 0\n",
      " 0 0 3 3 3 3 1 2 3 3 2 1 0 3 2 3 1 0 3 1 3 0 2 3 3 0 3 1 3 0 3 2 3 1 3 3 3\n",
      " 3 1 0 0 3 1 2 3 0 0 3 0 0 0 0 1 0 0 1 0 2 3 0 3 0 0 3 3 3 1 0 0 0 1 3 1 3\n",
      " 3 1 1 0 3 3 3 1 0 3 3 3 3 3 4 3 3 0 3 0 0 0 0 0 2 0 3 0 3 3 0 1 0 0 0 3 3\n",
      " 3 3 3 0 3 3 3 3 1 0 3 2 1 1 1 3 3 0 3 0 0 0 0 0 0 0 3 0 3 3 3 0 0 0 3 1]\n"
     ]
    }
   ],
   "source": [
    "clusterNum = 5\n",
    "k_means = KMeans(n_clusters = clusterNum, n_init = 5)\n",
    "k_means.fit(df)\n",
    "labels = k_means.labels_\n",
    "print(labels)"
   ]
  },
  {
   "cell_type": "markdown",
   "metadata": {
    "button": false,
    "deletable": true,
    "new_sheet": false,
    "run_control": {
     "read_only": false
    }
   },
   "source": [
    "### Insights\n",
    "We assign the labels to each row in dataframe."
   ]
  },
  {
   "cell_type": "code",
   "execution_count": 23,
   "metadata": {
    "button": false,
    "collapsed": false,
    "deletable": true,
    "jupyter": {
     "outputs_hidden": false
    },
    "new_sheet": false,
    "run_control": {
     "read_only": false
    }
   },
   "outputs": [
    {
     "data": {
      "text/html": [
       "<div>\n",
       "<style scoped>\n",
       "    .dataframe tbody tr th:only-of-type {\n",
       "        vertical-align: middle;\n",
       "    }\n",
       "\n",
       "    .dataframe tbody tr th {\n",
       "        vertical-align: top;\n",
       "    }\n",
       "\n",
       "    .dataframe thead th {\n",
       "        text-align: right;\n",
       "    }\n",
       "</style>\n",
       "<table border=\"1\" class=\"dataframe\">\n",
       "  <thead>\n",
       "    <tr style=\"text-align: right;\">\n",
       "      <th></th>\n",
       "      <th>Age</th>\n",
       "      <th>Income</th>\n",
       "      <th>cluster</th>\n",
       "    </tr>\n",
       "  </thead>\n",
       "  <tbody>\n",
       "    <tr>\n",
       "      <th>0</th>\n",
       "      <td>0.742915</td>\n",
       "      <td>-0.718459</td>\n",
       "      <td>3</td>\n",
       "    </tr>\n",
       "    <tr>\n",
       "      <th>1</th>\n",
       "      <td>1.489490</td>\n",
       "      <td>1.384325</td>\n",
       "      <td>2</td>\n",
       "    </tr>\n",
       "    <tr>\n",
       "      <th>2</th>\n",
       "      <td>-0.252518</td>\n",
       "      <td>0.268032</td>\n",
       "      <td>3</td>\n",
       "    </tr>\n",
       "    <tr>\n",
       "      <th>3</th>\n",
       "      <td>-0.750235</td>\n",
       "      <td>-0.718459</td>\n",
       "      <td>0</td>\n",
       "    </tr>\n",
       "    <tr>\n",
       "      <th>4</th>\n",
       "      <td>1.489490</td>\n",
       "      <td>5.356249</td>\n",
       "      <td>4</td>\n",
       "    </tr>\n",
       "  </tbody>\n",
       "</table>\n",
       "</div>"
      ],
      "text/plain": [
       "        Age    Income  cluster\n",
       "0  0.742915 -0.718459        3\n",
       "1  1.489490  1.384325        2\n",
       "2 -0.252518  0.268032        3\n",
       "3 -0.750235 -0.718459        0\n",
       "4  1.489490  5.356249        4"
      ]
     },
     "execution_count": 23,
     "metadata": {},
     "output_type": "execute_result"
    }
   ],
   "source": [
    "df[\"cluster\"] = labels\n",
    "df.head(5)"
   ]
  },
  {
   "cell_type": "markdown",
   "metadata": {
    "button": false,
    "deletable": true,
    "new_sheet": false,
    "run_control": {
     "read_only": false
    }
   },
   "source": [
    "We can easily check the centroid values by averaging the features in each cluster."
   ]
  },
  {
   "cell_type": "code",
   "execution_count": 24,
   "metadata": {
    "button": false,
    "collapsed": false,
    "deletable": true,
    "jupyter": {
     "outputs_hidden": false
    },
    "new_sheet": false,
    "run_control": {
     "read_only": false
    }
   },
   "outputs": [
    {
     "data": {
      "text/html": [
       "<div>\n",
       "<style scoped>\n",
       "    .dataframe tbody tr th:only-of-type {\n",
       "        vertical-align: middle;\n",
       "    }\n",
       "\n",
       "    .dataframe tbody tr th {\n",
       "        vertical-align: top;\n",
       "    }\n",
       "\n",
       "    .dataframe thead th {\n",
       "        text-align: right;\n",
       "    }\n",
       "</style>\n",
       "<table border=\"1\" class=\"dataframe\">\n",
       "  <thead>\n",
       "    <tr style=\"text-align: right;\">\n",
       "      <th></th>\n",
       "      <th>Age</th>\n",
       "      <th>Income</th>\n",
       "    </tr>\n",
       "    <tr>\n",
       "      <th>cluster</th>\n",
       "      <th></th>\n",
       "      <th></th>\n",
       "    </tr>\n",
       "  </thead>\n",
       "  <tbody>\n",
       "    <tr>\n",
       "      <th>0</th>\n",
       "      <td>-1.010015</td>\n",
       "      <td>-0.516798</td>\n",
       "    </tr>\n",
       "    <tr>\n",
       "      <th>1</th>\n",
       "      <td>1.415923</td>\n",
       "      <td>0.070393</td>\n",
       "    </tr>\n",
       "    <tr>\n",
       "      <th>2</th>\n",
       "      <td>1.061454</td>\n",
       "      <td>1.797959</td>\n",
       "    </tr>\n",
       "    <tr>\n",
       "      <th>3</th>\n",
       "      <td>0.110702</td>\n",
       "      <td>-0.122464</td>\n",
       "    </tr>\n",
       "    <tr>\n",
       "      <th>4</th>\n",
       "      <td>1.439719</td>\n",
       "      <td>5.820938</td>\n",
       "    </tr>\n",
       "  </tbody>\n",
       "</table>\n",
       "</div>"
      ],
      "text/plain": [
       "              Age    Income\n",
       "cluster                    \n",
       "0       -1.010015 -0.516798\n",
       "1        1.415923  0.070393\n",
       "2        1.061454  1.797959\n",
       "3        0.110702 -0.122464\n",
       "4        1.439719  5.820938"
      ]
     },
     "execution_count": 24,
     "metadata": {},
     "output_type": "execute_result"
    }
   ],
   "source": [
    "df.groupby('cluster').mean()"
   ]
  },
  {
   "cell_type": "code",
   "execution_count": 19,
   "metadata": {},
   "outputs": [
    {
     "data": {
      "text/plain": [
       "1    319\n",
       "3    309\n",
       "2    137\n",
       "0     75\n",
       "4     10\n",
       "Name: cluster, dtype: int64"
      ]
     },
     "execution_count": 19,
     "metadata": {},
     "output_type": "execute_result"
    }
   ],
   "source": [
    "df.cluster.value_counts()"
   ]
  },
  {
   "cell_type": "markdown",
   "metadata": {},
   "source": [
    "Now, lets look at the distribution of customers based on their age and income:"
   ]
  },
  {
   "cell_type": "code",
   "execution_count": 25,
   "metadata": {
    "button": false,
    "collapsed": false,
    "deletable": true,
    "jupyter": {
     "outputs_hidden": false
    },
    "new_sheet": false,
    "run_control": {
     "read_only": false
    }
   },
   "outputs": [
    {
     "data": {
      "image/png": "[encoded data removed]",
      "text/plain": [
       "<Figure size 432x288 with 1 Axes>"
      ]
     },
     "metadata": {
      "needs_background": "light"
     },
     "output_type": "display_data"
    }
   ],
   "source": [
    "plt.scatter(df['Age'], df['Income'], c=labels.astype(np.float))\n",
    "plt.xlabel('Age', fontsize=18)\n",
    "plt.ylabel('Income', fontsize=16)\n",
    "plt.show()"
   ]
  },
  {
   "cell_type": "code",
   "execution_count": 21,
   "metadata": {},
   "outputs": [
    {
     "data": {
      "text/plain": [
       "319.11052908910705"
      ]
     },
     "execution_count": 21,
     "metadata": {},
     "output_type": "execute_result"
    }
   ],
   "source": [
    "k_means.inertia_    # Sum of squared distances of samples to their closest cluster center"
   ]
  }
 ],
 "metadata": {
  "kernelspec": {
   "display_name": "Python 3",
   "language": "python",
   "name": "python3"
  },
  "language_info": {
   "codemirror_mode": {
    "name": "ipython",
    "version": 3
   },
   "file_extension": ".py",
   "mimetype": "text/x-python",
   "name": "python",
   "nbconvert_exporter": "python",
   "pygments_lexer": "ipython3",
   "version": "3.7.6"
  },
  "widgets": {
   "state": {},
   "version": "1.1.2"
  }
 },
 "nbformat": 4,
 "nbformat_minor": 4
}
