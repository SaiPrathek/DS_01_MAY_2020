{
 "cells": [
  {
   "cell_type": "markdown",
   "metadata": {},
   "source": [
    "# Tips DataFrame"
   ]
  },
  {
   "cell_type": "code",
   "execution_count": 1,
   "metadata": {},
   "outputs": [],
   "source": [
    "import pandas as pd\n",
    "import seaborn as sns"
   ]
  },
  {
   "cell_type": "code",
   "execution_count": 2,
   "metadata": {},
   "outputs": [],
   "source": [
    "tips = sns.load_dataset('tips')"
   ]
  },
  {
   "cell_type": "markdown",
   "metadata": {},
   "source": [
    "#### Q: Display first 10 rows with total_bill , tip and day."
   ]
  },
  {
   "cell_type": "code",
   "execution_count": 3,
   "metadata": {
    "collapsed": true,
    "jupyter": {
     "outputs_hidden": true,
     "source_hidden": true
    }
   },
   "outputs": [
    {
     "data": {
      "text/html": [
       "<div>\n",
       "<style scoped>\n",
       "    .dataframe tbody tr th:only-of-type {\n",
       "        vertical-align: middle;\n",
       "    }\n",
       "\n",
       "    .dataframe tbody tr th {\n",
       "        vertical-align: top;\n",
       "    }\n",
       "\n",
       "    .dataframe thead th {\n",
       "        text-align: right;\n",
       "    }\n",
       "</style>\n",
       "<table border=\"1\" class=\"dataframe\">\n",
       "  <thead>\n",
       "    <tr style=\"text-align: right;\">\n",
       "      <th></th>\n",
       "      <th>total_bill</th>\n",
       "      <th>tip</th>\n",
       "      <th>day</th>\n",
       "    </tr>\n",
       "  </thead>\n",
       "  <tbody>\n",
       "    <tr>\n",
       "      <th>0</th>\n",
       "      <td>16.99</td>\n",
       "      <td>1.01</td>\n",
       "      <td>Sun</td>\n",
       "    </tr>\n",
       "    <tr>\n",
       "      <th>1</th>\n",
       "      <td>10.34</td>\n",
       "      <td>1.66</td>\n",
       "      <td>Sun</td>\n",
       "    </tr>\n",
       "    <tr>\n",
       "      <th>2</th>\n",
       "      <td>21.01</td>\n",
       "      <td>3.50</td>\n",
       "      <td>Sun</td>\n",
       "    </tr>\n",
       "    <tr>\n",
       "      <th>3</th>\n",
       "      <td>23.68</td>\n",
       "      <td>3.31</td>\n",
       "      <td>Sun</td>\n",
       "    </tr>\n",
       "    <tr>\n",
       "      <th>4</th>\n",
       "      <td>24.59</td>\n",
       "      <td>3.61</td>\n",
       "      <td>Sun</td>\n",
       "    </tr>\n",
       "    <tr>\n",
       "      <th>5</th>\n",
       "      <td>25.29</td>\n",
       "      <td>4.71</td>\n",
       "      <td>Sun</td>\n",
       "    </tr>\n",
       "    <tr>\n",
       "      <th>6</th>\n",
       "      <td>8.77</td>\n",
       "      <td>2.00</td>\n",
       "      <td>Sun</td>\n",
       "    </tr>\n",
       "    <tr>\n",
       "      <th>7</th>\n",
       "      <td>26.88</td>\n",
       "      <td>3.12</td>\n",
       "      <td>Sun</td>\n",
       "    </tr>\n",
       "    <tr>\n",
       "      <th>8</th>\n",
       "      <td>15.04</td>\n",
       "      <td>1.96</td>\n",
       "      <td>Sun</td>\n",
       "    </tr>\n",
       "    <tr>\n",
       "      <th>9</th>\n",
       "      <td>14.78</td>\n",
       "      <td>3.23</td>\n",
       "      <td>Sun</td>\n",
       "    </tr>\n",
       "  </tbody>\n",
       "</table>\n",
       "</div>"
      ],
      "text/plain": [
       "   total_bill   tip  day\n",
       "0       16.99  1.01  Sun\n",
       "1       10.34  1.66  Sun\n",
       "2       21.01  3.50  Sun\n",
       "3       23.68  3.31  Sun\n",
       "4       24.59  3.61  Sun\n",
       "5       25.29  4.71  Sun\n",
       "6        8.77  2.00  Sun\n",
       "7       26.88  3.12  Sun\n",
       "8       15.04  1.96  Sun\n",
       "9       14.78  3.23  Sun"
      ]
     },
     "execution_count": 3,
     "metadata": {},
     "output_type": "execute_result"
    }
   ],
   "source": [
    "tips[['total_bill','tip','day']].head(10)"
   ]
  },
  {
   "cell_type": "markdown",
   "metadata": {},
   "source": [
    "#### Q.Display transactions related to lunch."
   ]
  },
  {
   "cell_type": "code",
   "execution_count": 4,
   "metadata": {
    "collapsed": true,
    "jupyter": {
     "outputs_hidden": true,
     "source_hidden": true
    }
   },
   "outputs": [
    {
     "data": {
      "text/html": [
       "<div>\n",
       "<style scoped>\n",
       "    .dataframe tbody tr th:only-of-type {\n",
       "        vertical-align: middle;\n",
       "    }\n",
       "\n",
       "    .dataframe tbody tr th {\n",
       "        vertical-align: top;\n",
       "    }\n",
       "\n",
       "    .dataframe thead th {\n",
       "        text-align: right;\n",
       "    }\n",
       "</style>\n",
       "<table border=\"1\" class=\"dataframe\">\n",
       "  <thead>\n",
       "    <tr style=\"text-align: right;\">\n",
       "      <th></th>\n",
       "      <th>total_bill</th>\n",
       "      <th>tip</th>\n",
       "      <th>sex</th>\n",
       "      <th>smoker</th>\n",
       "      <th>day</th>\n",
       "      <th>time</th>\n",
       "      <th>size</th>\n",
       "    </tr>\n",
       "  </thead>\n",
       "  <tbody>\n",
       "    <tr>\n",
       "      <th>77</th>\n",
       "      <td>27.20</td>\n",
       "      <td>4.00</td>\n",
       "      <td>Male</td>\n",
       "      <td>No</td>\n",
       "      <td>Thur</td>\n",
       "      <td>Lunch</td>\n",
       "      <td>4</td>\n",
       "    </tr>\n",
       "    <tr>\n",
       "      <th>78</th>\n",
       "      <td>22.76</td>\n",
       "      <td>3.00</td>\n",
       "      <td>Male</td>\n",
       "      <td>No</td>\n",
       "      <td>Thur</td>\n",
       "      <td>Lunch</td>\n",
       "      <td>2</td>\n",
       "    </tr>\n",
       "    <tr>\n",
       "      <th>79</th>\n",
       "      <td>17.29</td>\n",
       "      <td>2.71</td>\n",
       "      <td>Male</td>\n",
       "      <td>No</td>\n",
       "      <td>Thur</td>\n",
       "      <td>Lunch</td>\n",
       "      <td>2</td>\n",
       "    </tr>\n",
       "    <tr>\n",
       "      <th>80</th>\n",
       "      <td>19.44</td>\n",
       "      <td>3.00</td>\n",
       "      <td>Male</td>\n",
       "      <td>Yes</td>\n",
       "      <td>Thur</td>\n",
       "      <td>Lunch</td>\n",
       "      <td>2</td>\n",
       "    </tr>\n",
       "    <tr>\n",
       "      <th>81</th>\n",
       "      <td>16.66</td>\n",
       "      <td>3.40</td>\n",
       "      <td>Male</td>\n",
       "      <td>No</td>\n",
       "      <td>Thur</td>\n",
       "      <td>Lunch</td>\n",
       "      <td>2</td>\n",
       "    </tr>\n",
       "    <tr>\n",
       "      <th>...</th>\n",
       "      <td>...</td>\n",
       "      <td>...</td>\n",
       "      <td>...</td>\n",
       "      <td>...</td>\n",
       "      <td>...</td>\n",
       "      <td>...</td>\n",
       "      <td>...</td>\n",
       "    </tr>\n",
       "    <tr>\n",
       "      <th>222</th>\n",
       "      <td>8.58</td>\n",
       "      <td>1.92</td>\n",
       "      <td>Male</td>\n",
       "      <td>Yes</td>\n",
       "      <td>Fri</td>\n",
       "      <td>Lunch</td>\n",
       "      <td>1</td>\n",
       "    </tr>\n",
       "    <tr>\n",
       "      <th>223</th>\n",
       "      <td>15.98</td>\n",
       "      <td>3.00</td>\n",
       "      <td>Female</td>\n",
       "      <td>No</td>\n",
       "      <td>Fri</td>\n",
       "      <td>Lunch</td>\n",
       "      <td>3</td>\n",
       "    </tr>\n",
       "    <tr>\n",
       "      <th>224</th>\n",
       "      <td>13.42</td>\n",
       "      <td>1.58</td>\n",
       "      <td>Male</td>\n",
       "      <td>Yes</td>\n",
       "      <td>Fri</td>\n",
       "      <td>Lunch</td>\n",
       "      <td>2</td>\n",
       "    </tr>\n",
       "    <tr>\n",
       "      <th>225</th>\n",
       "      <td>16.27</td>\n",
       "      <td>2.50</td>\n",
       "      <td>Female</td>\n",
       "      <td>Yes</td>\n",
       "      <td>Fri</td>\n",
       "      <td>Lunch</td>\n",
       "      <td>2</td>\n",
       "    </tr>\n",
       "    <tr>\n",
       "      <th>226</th>\n",
       "      <td>10.09</td>\n",
       "      <td>2.00</td>\n",
       "      <td>Female</td>\n",
       "      <td>Yes</td>\n",
       "      <td>Fri</td>\n",
       "      <td>Lunch</td>\n",
       "      <td>2</td>\n",
       "    </tr>\n",
       "  </tbody>\n",
       "</table>\n",
       "<p>68 rows × 7 columns</p>\n",
       "</div>"
      ],
      "text/plain": [
       "     total_bill   tip     sex smoker   day   time  size\n",
       "77        27.20  4.00    Male     No  Thur  Lunch     4\n",
       "78        22.76  3.00    Male     No  Thur  Lunch     2\n",
       "79        17.29  2.71    Male     No  Thur  Lunch     2\n",
       "80        19.44  3.00    Male    Yes  Thur  Lunch     2\n",
       "81        16.66  3.40    Male     No  Thur  Lunch     2\n",
       "..          ...   ...     ...    ...   ...    ...   ...\n",
       "222        8.58  1.92    Male    Yes   Fri  Lunch     1\n",
       "223       15.98  3.00  Female     No   Fri  Lunch     3\n",
       "224       13.42  1.58    Male    Yes   Fri  Lunch     2\n",
       "225       16.27  2.50  Female    Yes   Fri  Lunch     2\n",
       "226       10.09  2.00  Female    Yes   Fri  Lunch     2\n",
       "\n",
       "[68 rows x 7 columns]"
      ]
     },
     "execution_count": 4,
     "metadata": {},
     "output_type": "execute_result"
    }
   ],
   "source": [
    "tips[tips['time'] == \"Lunch\"] "
   ]
  },
  {
   "cell_type": "markdown",
   "metadata": {},
   "source": [
    "#### Q.Display the summary information for total_bill and tip."
   ]
  },
  {
   "cell_type": "code",
   "execution_count": 5,
   "metadata": {
    "collapsed": true,
    "jupyter": {
     "outputs_hidden": true,
     "source_hidden": true
    }
   },
   "outputs": [
    {
     "name": "stdout",
     "output_type": "stream",
     "text": [
      "<class 'pandas.core.frame.DataFrame'>\n",
      "RangeIndex: 244 entries, 0 to 243\n",
      "Data columns (total 2 columns):\n",
      " #   Column      Non-Null Count  Dtype  \n",
      "---  ------      --------------  -----  \n",
      " 0   total_bill  244 non-null    float64\n",
      " 1   tip         244 non-null    float64\n",
      "dtypes: float64(2)\n",
      "memory usage: 3.9 KB\n"
     ]
    }
   ],
   "source": [
    "tips[['total_bill','tip']].info()"
   ]
  },
  {
   "cell_type": "code",
   "execution_count": 6,
   "metadata": {
    "collapsed": true,
    "jupyter": {
     "outputs_hidden": true,
     "source_hidden": true
    }
   },
   "outputs": [
    {
     "data": {
      "text/html": [
       "<div>\n",
       "<style scoped>\n",
       "    .dataframe tbody tr th:only-of-type {\n",
       "        vertical-align: middle;\n",
       "    }\n",
       "\n",
       "    .dataframe tbody tr th {\n",
       "        vertical-align: top;\n",
       "    }\n",
       "\n",
       "    .dataframe thead th {\n",
       "        text-align: right;\n",
       "    }\n",
       "</style>\n",
       "<table border=\"1\" class=\"dataframe\">\n",
       "  <thead>\n",
       "    <tr style=\"text-align: right;\">\n",
       "      <th></th>\n",
       "      <th>total_bill</th>\n",
       "      <th>tip</th>\n",
       "    </tr>\n",
       "  </thead>\n",
       "  <tbody>\n",
       "    <tr>\n",
       "      <th>count</th>\n",
       "      <td>244.000000</td>\n",
       "      <td>244.000000</td>\n",
       "    </tr>\n",
       "    <tr>\n",
       "      <th>mean</th>\n",
       "      <td>19.785943</td>\n",
       "      <td>2.998279</td>\n",
       "    </tr>\n",
       "    <tr>\n",
       "      <th>std</th>\n",
       "      <td>8.902412</td>\n",
       "      <td>1.383638</td>\n",
       "    </tr>\n",
       "    <tr>\n",
       "      <th>min</th>\n",
       "      <td>3.070000</td>\n",
       "      <td>1.000000</td>\n",
       "    </tr>\n",
       "    <tr>\n",
       "      <th>25%</th>\n",
       "      <td>13.347500</td>\n",
       "      <td>2.000000</td>\n",
       "    </tr>\n",
       "    <tr>\n",
       "      <th>50%</th>\n",
       "      <td>17.795000</td>\n",
       "      <td>2.900000</td>\n",
       "    </tr>\n",
       "    <tr>\n",
       "      <th>75%</th>\n",
       "      <td>24.127500</td>\n",
       "      <td>3.562500</td>\n",
       "    </tr>\n",
       "    <tr>\n",
       "      <th>max</th>\n",
       "      <td>50.810000</td>\n",
       "      <td>10.000000</td>\n",
       "    </tr>\n",
       "  </tbody>\n",
       "</table>\n",
       "</div>"
      ],
      "text/plain": [
       "       total_bill         tip\n",
       "count  244.000000  244.000000\n",
       "mean    19.785943    2.998279\n",
       "std      8.902412    1.383638\n",
       "min      3.070000    1.000000\n",
       "25%     13.347500    2.000000\n",
       "50%     17.795000    2.900000\n",
       "75%     24.127500    3.562500\n",
       "max     50.810000   10.000000"
      ]
     },
     "execution_count": 6,
     "metadata": {},
     "output_type": "execute_result"
    }
   ],
   "source": [
    "tips[['total_bill','tip']].describe()"
   ]
  },
  {
   "cell_type": "markdown",
   "metadata": {},
   "source": [
    "#### Q.Display average tip amount for male customers."
   ]
  },
  {
   "cell_type": "code",
   "execution_count": 7,
   "metadata": {
    "collapsed": true,
    "jupyter": {
     "outputs_hidden": true,
     "source_hidden": true
    }
   },
   "outputs": [
    {
     "data": {
      "text/plain": [
       "3.0896178343949052"
      ]
     },
     "execution_count": 7,
     "metadata": {},
     "output_type": "execute_result"
    }
   ],
   "source": [
    "tips[tips.sex == 'Male'].tip.mean()"
   ]
  },
  {
   "cell_type": "markdown",
   "metadata": {},
   "source": [
    "#### Q.Display transactions where table size is 2,4 or 6."
   ]
  },
  {
   "cell_type": "code",
   "execution_count": 8,
   "metadata": {
    "collapsed": true,
    "jupyter": {
     "outputs_hidden": true,
     "source_hidden": true
    }
   },
   "outputs": [
    {
     "data": {
      "text/html": [
       "<div>\n",
       "<style scoped>\n",
       "    .dataframe tbody tr th:only-of-type {\n",
       "        vertical-align: middle;\n",
       "    }\n",
       "\n",
       "    .dataframe tbody tr th {\n",
       "        vertical-align: top;\n",
       "    }\n",
       "\n",
       "    .dataframe thead th {\n",
       "        text-align: right;\n",
       "    }\n",
       "</style>\n",
       "<table border=\"1\" class=\"dataframe\">\n",
       "  <thead>\n",
       "    <tr style=\"text-align: right;\">\n",
       "      <th></th>\n",
       "      <th>total_bill</th>\n",
       "      <th>tip</th>\n",
       "      <th>sex</th>\n",
       "      <th>smoker</th>\n",
       "      <th>day</th>\n",
       "      <th>time</th>\n",
       "      <th>size</th>\n",
       "    </tr>\n",
       "  </thead>\n",
       "  <tbody>\n",
       "    <tr>\n",
       "      <th>0</th>\n",
       "      <td>16.99</td>\n",
       "      <td>1.01</td>\n",
       "      <td>Female</td>\n",
       "      <td>No</td>\n",
       "      <td>Sun</td>\n",
       "      <td>Dinner</td>\n",
       "      <td>2</td>\n",
       "    </tr>\n",
       "    <tr>\n",
       "      <th>3</th>\n",
       "      <td>23.68</td>\n",
       "      <td>3.31</td>\n",
       "      <td>Male</td>\n",
       "      <td>No</td>\n",
       "      <td>Sun</td>\n",
       "      <td>Dinner</td>\n",
       "      <td>2</td>\n",
       "    </tr>\n",
       "    <tr>\n",
       "      <th>4</th>\n",
       "      <td>24.59</td>\n",
       "      <td>3.61</td>\n",
       "      <td>Female</td>\n",
       "      <td>No</td>\n",
       "      <td>Sun</td>\n",
       "      <td>Dinner</td>\n",
       "      <td>4</td>\n",
       "    </tr>\n",
       "    <tr>\n",
       "      <th>5</th>\n",
       "      <td>25.29</td>\n",
       "      <td>4.71</td>\n",
       "      <td>Male</td>\n",
       "      <td>No</td>\n",
       "      <td>Sun</td>\n",
       "      <td>Dinner</td>\n",
       "      <td>4</td>\n",
       "    </tr>\n",
       "    <tr>\n",
       "      <th>6</th>\n",
       "      <td>8.77</td>\n",
       "      <td>2.00</td>\n",
       "      <td>Male</td>\n",
       "      <td>No</td>\n",
       "      <td>Sun</td>\n",
       "      <td>Dinner</td>\n",
       "      <td>2</td>\n",
       "    </tr>\n",
       "    <tr>\n",
       "      <th>...</th>\n",
       "      <td>...</td>\n",
       "      <td>...</td>\n",
       "      <td>...</td>\n",
       "      <td>...</td>\n",
       "      <td>...</td>\n",
       "      <td>...</td>\n",
       "      <td>...</td>\n",
       "    </tr>\n",
       "    <tr>\n",
       "      <th>237</th>\n",
       "      <td>32.83</td>\n",
       "      <td>1.17</td>\n",
       "      <td>Male</td>\n",
       "      <td>Yes</td>\n",
       "      <td>Sat</td>\n",
       "      <td>Dinner</td>\n",
       "      <td>2</td>\n",
       "    </tr>\n",
       "    <tr>\n",
       "      <th>240</th>\n",
       "      <td>27.18</td>\n",
       "      <td>2.00</td>\n",
       "      <td>Female</td>\n",
       "      <td>Yes</td>\n",
       "      <td>Sat</td>\n",
       "      <td>Dinner</td>\n",
       "      <td>2</td>\n",
       "    </tr>\n",
       "    <tr>\n",
       "      <th>241</th>\n",
       "      <td>22.67</td>\n",
       "      <td>2.00</td>\n",
       "      <td>Male</td>\n",
       "      <td>Yes</td>\n",
       "      <td>Sat</td>\n",
       "      <td>Dinner</td>\n",
       "      <td>2</td>\n",
       "    </tr>\n",
       "    <tr>\n",
       "      <th>242</th>\n",
       "      <td>17.82</td>\n",
       "      <td>1.75</td>\n",
       "      <td>Male</td>\n",
       "      <td>No</td>\n",
       "      <td>Sat</td>\n",
       "      <td>Dinner</td>\n",
       "      <td>2</td>\n",
       "    </tr>\n",
       "    <tr>\n",
       "      <th>243</th>\n",
       "      <td>18.78</td>\n",
       "      <td>3.00</td>\n",
       "      <td>Female</td>\n",
       "      <td>No</td>\n",
       "      <td>Thur</td>\n",
       "      <td>Dinner</td>\n",
       "      <td>2</td>\n",
       "    </tr>\n",
       "  </tbody>\n",
       "</table>\n",
       "<p>197 rows × 7 columns</p>\n",
       "</div>"
      ],
      "text/plain": [
       "     total_bill   tip     sex smoker   day    time  size\n",
       "0         16.99  1.01  Female     No   Sun  Dinner     2\n",
       "3         23.68  3.31    Male     No   Sun  Dinner     2\n",
       "4         24.59  3.61  Female     No   Sun  Dinner     4\n",
       "5         25.29  4.71    Male     No   Sun  Dinner     4\n",
       "6          8.77  2.00    Male     No   Sun  Dinner     2\n",
       "..          ...   ...     ...    ...   ...     ...   ...\n",
       "237       32.83  1.17    Male    Yes   Sat  Dinner     2\n",
       "240       27.18  2.00  Female    Yes   Sat  Dinner     2\n",
       "241       22.67  2.00    Male    Yes   Sat  Dinner     2\n",
       "242       17.82  1.75    Male     No   Sat  Dinner     2\n",
       "243       18.78  3.00  Female     No  Thur  Dinner     2\n",
       "\n",
       "[197 rows x 7 columns]"
      ]
     },
     "execution_count": 8,
     "metadata": {},
     "output_type": "execute_result"
    }
   ],
   "source": [
    "tips[(tips['size']==2) | (tips['size']==4) | (tips['size']==6)]"
   ]
  },
  {
   "cell_type": "markdown",
   "metadata": {},
   "source": [
    "#### Q.Display first 3 columns for first 10 rows."
   ]
  },
  {
   "cell_type": "code",
   "execution_count": 9,
   "metadata": {
    "collapsed": true,
    "jupyter": {
     "outputs_hidden": true,
     "source_hidden": true
    }
   },
   "outputs": [
    {
     "data": {
      "text/html": [
       "<div>\n",
       "<style scoped>\n",
       "    .dataframe tbody tr th:only-of-type {\n",
       "        vertical-align: middle;\n",
       "    }\n",
       "\n",
       "    .dataframe tbody tr th {\n",
       "        vertical-align: top;\n",
       "    }\n",
       "\n",
       "    .dataframe thead th {\n",
       "        text-align: right;\n",
       "    }\n",
       "</style>\n",
       "<table border=\"1\" class=\"dataframe\">\n",
       "  <thead>\n",
       "    <tr style=\"text-align: right;\">\n",
       "      <th></th>\n",
       "      <th>total_bill</th>\n",
       "      <th>tip</th>\n",
       "      <th>sex</th>\n",
       "    </tr>\n",
       "  </thead>\n",
       "  <tbody>\n",
       "    <tr>\n",
       "      <th>0</th>\n",
       "      <td>16.99</td>\n",
       "      <td>1.01</td>\n",
       "      <td>Female</td>\n",
       "    </tr>\n",
       "    <tr>\n",
       "      <th>1</th>\n",
       "      <td>10.34</td>\n",
       "      <td>1.66</td>\n",
       "      <td>Male</td>\n",
       "    </tr>\n",
       "    <tr>\n",
       "      <th>2</th>\n",
       "      <td>21.01</td>\n",
       "      <td>3.50</td>\n",
       "      <td>Male</td>\n",
       "    </tr>\n",
       "    <tr>\n",
       "      <th>3</th>\n",
       "      <td>23.68</td>\n",
       "      <td>3.31</td>\n",
       "      <td>Male</td>\n",
       "    </tr>\n",
       "    <tr>\n",
       "      <th>4</th>\n",
       "      <td>24.59</td>\n",
       "      <td>3.61</td>\n",
       "      <td>Female</td>\n",
       "    </tr>\n",
       "    <tr>\n",
       "      <th>5</th>\n",
       "      <td>25.29</td>\n",
       "      <td>4.71</td>\n",
       "      <td>Male</td>\n",
       "    </tr>\n",
       "    <tr>\n",
       "      <th>6</th>\n",
       "      <td>8.77</td>\n",
       "      <td>2.00</td>\n",
       "      <td>Male</td>\n",
       "    </tr>\n",
       "    <tr>\n",
       "      <th>7</th>\n",
       "      <td>26.88</td>\n",
       "      <td>3.12</td>\n",
       "      <td>Male</td>\n",
       "    </tr>\n",
       "    <tr>\n",
       "      <th>8</th>\n",
       "      <td>15.04</td>\n",
       "      <td>1.96</td>\n",
       "      <td>Male</td>\n",
       "    </tr>\n",
       "    <tr>\n",
       "      <th>9</th>\n",
       "      <td>14.78</td>\n",
       "      <td>3.23</td>\n",
       "      <td>Male</td>\n",
       "    </tr>\n",
       "  </tbody>\n",
       "</table>\n",
       "</div>"
      ],
      "text/plain": [
       "   total_bill   tip     sex\n",
       "0       16.99  1.01  Female\n",
       "1       10.34  1.66    Male\n",
       "2       21.01  3.50    Male\n",
       "3       23.68  3.31    Male\n",
       "4       24.59  3.61  Female\n",
       "5       25.29  4.71    Male\n",
       "6        8.77  2.00    Male\n",
       "7       26.88  3.12    Male\n",
       "8       15.04  1.96    Male\n",
       "9       14.78  3.23    Male"
      ]
     },
     "execution_count": 9,
     "metadata": {},
     "output_type": "execute_result"
    }
   ],
   "source": [
    "tips.iloc[:10,:3]"
   ]
  },
  {
   "cell_type": "markdown",
   "metadata": {},
   "source": [
    "#### Q.Display Count of transactions for each day."
   ]
  },
  {
   "cell_type": "code",
   "execution_count": 10,
   "metadata": {
    "collapsed": true,
    "jupyter": {
     "outputs_hidden": true,
     "source_hidden": true
    }
   },
   "outputs": [
    {
     "data": {
      "text/plain": [
       "76"
      ]
     },
     "execution_count": 10,
     "metadata": {},
     "output_type": "execute_result"
    }
   ],
   "source": [
    "(tips.day == 'Sun').sum()"
   ]
  },
  {
   "cell_type": "code",
   "execution_count": 11,
   "metadata": {
    "collapsed": true,
    "jupyter": {
     "outputs_hidden": true,
     "source_hidden": true
    }
   },
   "outputs": [
    {
     "data": {
      "text/plain": [
       "0"
      ]
     },
     "execution_count": 11,
     "metadata": {},
     "output_type": "execute_result"
    }
   ],
   "source": [
    "(tips.day == 'Mon').sum()"
   ]
  },
  {
   "cell_type": "code",
   "execution_count": 12,
   "metadata": {
    "collapsed": true,
    "jupyter": {
     "outputs_hidden": true,
     "source_hidden": true
    }
   },
   "outputs": [
    {
     "data": {
      "text/plain": [
       "0"
      ]
     },
     "execution_count": 12,
     "metadata": {},
     "output_type": "execute_result"
    }
   ],
   "source": [
    "(tips.day == 'Wed').sum()"
   ]
  },
  {
   "cell_type": "code",
   "execution_count": 13,
   "metadata": {
    "collapsed": true,
    "jupyter": {
     "outputs_hidden": true,
     "source_hidden": true
    }
   },
   "outputs": [
    {
     "data": {
      "text/plain": [
       "62"
      ]
     },
     "execution_count": 13,
     "metadata": {},
     "output_type": "execute_result"
    }
   ],
   "source": [
    "(tips.day == 'Thur').sum()"
   ]
  },
  {
   "cell_type": "code",
   "execution_count": 14,
   "metadata": {
    "collapsed": true,
    "jupyter": {
     "outputs_hidden": true,
     "source_hidden": true
    }
   },
   "outputs": [
    {
     "data": {
      "text/plain": [
       "19"
      ]
     },
     "execution_count": 14,
     "metadata": {},
     "output_type": "execute_result"
    }
   ],
   "source": [
    "(tips.day == 'Fri').sum()"
   ]
  },
  {
   "cell_type": "code",
   "execution_count": 15,
   "metadata": {
    "collapsed": true,
    "jupyter": {
     "outputs_hidden": true,
     "source_hidden": true
    }
   },
   "outputs": [
    {
     "data": {
      "text/plain": [
       "87"
      ]
     },
     "execution_count": 15,
     "metadata": {},
     "output_type": "execute_result"
    }
   ],
   "source": [
    "(tips.day == 'Sat').sum()"
   ]
  },
  {
   "cell_type": "markdown",
   "metadata": {},
   "source": [
    "#### Q.Display transactions where a day starts with 'S'."
   ]
  },
  {
   "cell_type": "code",
   "execution_count": 16,
   "metadata": {
    "collapsed": true,
    "jupyter": {
     "outputs_hidden": true,
     "source_hidden": true
    }
   },
   "outputs": [
    {
     "data": {
      "text/html": [
       "<div>\n",
       "<style scoped>\n",
       "    .dataframe tbody tr th:only-of-type {\n",
       "        vertical-align: middle;\n",
       "    }\n",
       "\n",
       "    .dataframe tbody tr th {\n",
       "        vertical-align: top;\n",
       "    }\n",
       "\n",
       "    .dataframe thead th {\n",
       "        text-align: right;\n",
       "    }\n",
       "</style>\n",
       "<table border=\"1\" class=\"dataframe\">\n",
       "  <thead>\n",
       "    <tr style=\"text-align: right;\">\n",
       "      <th></th>\n",
       "      <th>total_bill</th>\n",
       "      <th>tip</th>\n",
       "      <th>sex</th>\n",
       "      <th>smoker</th>\n",
       "      <th>day</th>\n",
       "      <th>time</th>\n",
       "      <th>size</th>\n",
       "    </tr>\n",
       "  </thead>\n",
       "  <tbody>\n",
       "    <tr>\n",
       "      <th>0</th>\n",
       "      <td>16.99</td>\n",
       "      <td>1.01</td>\n",
       "      <td>Female</td>\n",
       "      <td>No</td>\n",
       "      <td>Sun</td>\n",
       "      <td>Dinner</td>\n",
       "      <td>2</td>\n",
       "    </tr>\n",
       "    <tr>\n",
       "      <th>1</th>\n",
       "      <td>10.34</td>\n",
       "      <td>1.66</td>\n",
       "      <td>Male</td>\n",
       "      <td>No</td>\n",
       "      <td>Sun</td>\n",
       "      <td>Dinner</td>\n",
       "      <td>3</td>\n",
       "    </tr>\n",
       "    <tr>\n",
       "      <th>2</th>\n",
       "      <td>21.01</td>\n",
       "      <td>3.50</td>\n",
       "      <td>Male</td>\n",
       "      <td>No</td>\n",
       "      <td>Sun</td>\n",
       "      <td>Dinner</td>\n",
       "      <td>3</td>\n",
       "    </tr>\n",
       "    <tr>\n",
       "      <th>3</th>\n",
       "      <td>23.68</td>\n",
       "      <td>3.31</td>\n",
       "      <td>Male</td>\n",
       "      <td>No</td>\n",
       "      <td>Sun</td>\n",
       "      <td>Dinner</td>\n",
       "      <td>2</td>\n",
       "    </tr>\n",
       "    <tr>\n",
       "      <th>4</th>\n",
       "      <td>24.59</td>\n",
       "      <td>3.61</td>\n",
       "      <td>Female</td>\n",
       "      <td>No</td>\n",
       "      <td>Sun</td>\n",
       "      <td>Dinner</td>\n",
       "      <td>4</td>\n",
       "    </tr>\n",
       "    <tr>\n",
       "      <th>...</th>\n",
       "      <td>...</td>\n",
       "      <td>...</td>\n",
       "      <td>...</td>\n",
       "      <td>...</td>\n",
       "      <td>...</td>\n",
       "      <td>...</td>\n",
       "      <td>...</td>\n",
       "    </tr>\n",
       "    <tr>\n",
       "      <th>238</th>\n",
       "      <td>35.83</td>\n",
       "      <td>4.67</td>\n",
       "      <td>Female</td>\n",
       "      <td>No</td>\n",
       "      <td>Sat</td>\n",
       "      <td>Dinner</td>\n",
       "      <td>3</td>\n",
       "    </tr>\n",
       "    <tr>\n",
       "      <th>239</th>\n",
       "      <td>29.03</td>\n",
       "      <td>5.92</td>\n",
       "      <td>Male</td>\n",
       "      <td>No</td>\n",
       "      <td>Sat</td>\n",
       "      <td>Dinner</td>\n",
       "      <td>3</td>\n",
       "    </tr>\n",
       "    <tr>\n",
       "      <th>240</th>\n",
       "      <td>27.18</td>\n",
       "      <td>2.00</td>\n",
       "      <td>Female</td>\n",
       "      <td>Yes</td>\n",
       "      <td>Sat</td>\n",
       "      <td>Dinner</td>\n",
       "      <td>2</td>\n",
       "    </tr>\n",
       "    <tr>\n",
       "      <th>241</th>\n",
       "      <td>22.67</td>\n",
       "      <td>2.00</td>\n",
       "      <td>Male</td>\n",
       "      <td>Yes</td>\n",
       "      <td>Sat</td>\n",
       "      <td>Dinner</td>\n",
       "      <td>2</td>\n",
       "    </tr>\n",
       "    <tr>\n",
       "      <th>242</th>\n",
       "      <td>17.82</td>\n",
       "      <td>1.75</td>\n",
       "      <td>Male</td>\n",
       "      <td>No</td>\n",
       "      <td>Sat</td>\n",
       "      <td>Dinner</td>\n",
       "      <td>2</td>\n",
       "    </tr>\n",
       "  </tbody>\n",
       "</table>\n",
       "<p>163 rows × 7 columns</p>\n",
       "</div>"
      ],
      "text/plain": [
       "     total_bill   tip     sex smoker  day    time  size\n",
       "0         16.99  1.01  Female     No  Sun  Dinner     2\n",
       "1         10.34  1.66    Male     No  Sun  Dinner     3\n",
       "2         21.01  3.50    Male     No  Sun  Dinner     3\n",
       "3         23.68  3.31    Male     No  Sun  Dinner     2\n",
       "4         24.59  3.61  Female     No  Sun  Dinner     4\n",
       "..          ...   ...     ...    ...  ...     ...   ...\n",
       "238       35.83  4.67  Female     No  Sat  Dinner     3\n",
       "239       29.03  5.92    Male     No  Sat  Dinner     3\n",
       "240       27.18  2.00  Female    Yes  Sat  Dinner     2\n",
       "241       22.67  2.00    Male    Yes  Sat  Dinner     2\n",
       "242       17.82  1.75    Male     No  Sat  Dinner     2\n",
       "\n",
       "[163 rows x 7 columns]"
      ]
     },
     "execution_count": 16,
     "metadata": {},
     "output_type": "execute_result"
    }
   ],
   "source": [
    "tips[tips.day.str.startswith('S')]"
   ]
  },
  {
   "cell_type": "markdown",
   "metadata": {},
   "source": [
    "#### Q.Display total_bill amount and tip amount."
   ]
  },
  {
   "cell_type": "code",
   "execution_count": 17,
   "metadata": {
    "collapsed": true,
    "jupyter": {
     "outputs_hidden": true,
     "source_hidden": true
    }
   },
   "outputs": [
    {
     "data": {
      "text/plain": [
       "total_bill    4827.77\n",
       "tip            731.58\n",
       "dtype: float64"
      ]
     },
     "execution_count": 17,
     "metadata": {},
     "output_type": "execute_result"
    }
   ],
   "source": [
    "tips[['total_bill','tip']].sum()"
   ]
  },
  {
   "cell_type": "markdown",
   "metadata": {},
   "source": [
    "#### Q.Display the size of the table as small or large(small = 3 or less than 3, large = all others)."
   ]
  },
  {
   "cell_type": "code",
   "execution_count": 18,
   "metadata": {
    "collapsed": true,
    "jupyter": {
     "outputs_hidden": true,
     "source_hidden": true
    }
   },
   "outputs": [
    {
     "data": {
      "text/plain": [
       "0      small\n",
       "1      small\n",
       "2      small\n",
       "3      small\n",
       "4      large\n",
       "       ...  \n",
       "239    small\n",
       "240    small\n",
       "241    small\n",
       "242    small\n",
       "243    small\n",
       "Name: size, Length: 244, dtype: object"
      ]
     },
     "execution_count": 18,
     "metadata": {},
     "output_type": "execute_result"
    }
   ],
   "source": [
    "tips['size'].apply(lambda v : 'large' if v>3 else 'small')"
   ]
  },
  {
   "cell_type": "markdown",
   "metadata": {},
   "source": [
    "### Q.Display total_bill amount for each day."
   ]
  },
  {
   "cell_type": "code",
   "execution_count": 19,
   "metadata": {
    "collapsed": true,
    "jupyter": {
     "outputs_hidden": true,
     "source_hidden": true
    }
   },
   "outputs": [
    {
     "data": {
      "text/plain": [
       "day\n",
       "Thur    1096.33\n",
       "Fri      325.88\n",
       "Sat     1778.40\n",
       "Sun     1627.16\n",
       "Name: total_bill, dtype: float64"
      ]
     },
     "execution_count": 19,
     "metadata": {},
     "output_type": "execute_result"
    }
   ],
   "source": [
    "tips.groupby(['day'])['total_bill'].sum()"
   ]
  },
  {
   "cell_type": "markdown",
   "metadata": {},
   "source": [
    "### Q.Display total_tip amount for each day and smokers."
   ]
  },
  {
   "cell_type": "code",
   "execution_count": 20,
   "metadata": {
    "collapsed": true,
    "jupyter": {
     "outputs_hidden": true,
     "source_hidden": true
    }
   },
   "outputs": [
    {
     "data": {
      "text/plain": [
       "day   smoker\n",
       "Thur  Yes        51.51\n",
       "      No        120.32\n",
       "Fri   Yes        40.71\n",
       "      No         11.25\n",
       "Sat   Yes       120.77\n",
       "      No        139.63\n",
       "Sun   Yes        66.82\n",
       "      No        180.57\n",
       "Name: tip, dtype: float64"
      ]
     },
     "execution_count": 20,
     "metadata": {},
     "output_type": "execute_result"
    }
   ],
   "source": [
    "tips.groupby(['day','smoker'])['tip'].sum()"
   ]
  },
  {
   "cell_type": "markdown",
   "metadata": {},
   "source": [
    "### Q.Display total_bill and tip grouped by size."
   ]
  },
  {
   "cell_type": "code",
   "execution_count": 21,
   "metadata": {
    "collapsed": true,
    "jupyter": {
     "outputs_hidden": true,
     "source_hidden": true
    }
   },
   "outputs": [
    {
     "data": {
      "text/html": [
       "<div>\n",
       "<style scoped>\n",
       "    .dataframe tbody tr th:only-of-type {\n",
       "        vertical-align: middle;\n",
       "    }\n",
       "\n",
       "    .dataframe tbody tr th {\n",
       "        vertical-align: top;\n",
       "    }\n",
       "\n",
       "    .dataframe thead th {\n",
       "        text-align: right;\n",
       "    }\n",
       "</style>\n",
       "<table border=\"1\" class=\"dataframe\">\n",
       "  <thead>\n",
       "    <tr style=\"text-align: right;\">\n",
       "      <th></th>\n",
       "      <th>total_bill</th>\n",
       "      <th>tip</th>\n",
       "    </tr>\n",
       "    <tr>\n",
       "      <th>size</th>\n",
       "      <th></th>\n",
       "      <th></th>\n",
       "    </tr>\n",
       "  </thead>\n",
       "  <tbody>\n",
       "    <tr>\n",
       "      <th>1</th>\n",
       "      <td>28.97</td>\n",
       "      <td>5.75</td>\n",
       "    </tr>\n",
       "    <tr>\n",
       "      <th>2</th>\n",
       "      <td>2565.89</td>\n",
       "      <td>402.84</td>\n",
       "    </tr>\n",
       "    <tr>\n",
       "      <th>3</th>\n",
       "      <td>884.55</td>\n",
       "      <td>128.94</td>\n",
       "    </tr>\n",
       "    <tr>\n",
       "      <th>4</th>\n",
       "      <td>1058.70</td>\n",
       "      <td>153.01</td>\n",
       "    </tr>\n",
       "    <tr>\n",
       "      <th>5</th>\n",
       "      <td>150.34</td>\n",
       "      <td>20.14</td>\n",
       "    </tr>\n",
       "    <tr>\n",
       "      <th>6</th>\n",
       "      <td>139.32</td>\n",
       "      <td>20.90</td>\n",
       "    </tr>\n",
       "  </tbody>\n",
       "</table>\n",
       "</div>"
      ],
      "text/plain": [
       "      total_bill     tip\n",
       "size                    \n",
       "1          28.97    5.75\n",
       "2        2565.89  402.84\n",
       "3         884.55  128.94\n",
       "4        1058.70  153.01\n",
       "5         150.34   20.14\n",
       "6         139.32   20.90"
      ]
     },
     "execution_count": 21,
     "metadata": {},
     "output_type": "execute_result"
    }
   ],
   "source": [
    "tips.groupby(['size'])[['total_bill','tip']].sum()"
   ]
  },
  {
   "cell_type": "markdown",
   "metadata": {},
   "source": [
    "### Q.Average tip amount for each day for female."
   ]
  },
  {
   "cell_type": "code",
   "execution_count": 22,
   "metadata": {
    "collapsed": true,
    "jupyter": {
     "outputs_hidden": true,
     "source_hidden": true
    }
   },
   "outputs": [
    {
     "data": {
      "text/plain": [
       "sex\n",
       "Male      3.089618\n",
       "Female    2.833448\n",
       "Name: tip, dtype: float64"
      ]
     },
     "execution_count": 22,
     "metadata": {},
     "output_type": "execute_result"
    }
   ],
   "source": [
    "tips.groupby(['sex'])['tip'].mean()"
   ]
  },
  {
   "cell_type": "markdown",
   "metadata": {},
   "source": [
    "### Q.Maximum total bill for each day and each time."
   ]
  },
  {
   "cell_type": "code",
   "execution_count": 23,
   "metadata": {
    "collapsed": true,
    "jupyter": {
     "outputs_hidden": true,
     "source_hidden": true
    }
   },
   "outputs": [
    {
     "data": {
      "text/plain": [
       "day   time  \n",
       "Thur  Lunch     43.11\n",
       "      Dinner    18.78\n",
       "Fri   Lunch     16.27\n",
       "      Dinner    40.17\n",
       "Sat   Lunch       NaN\n",
       "      Dinner    50.81\n",
       "Sun   Lunch       NaN\n",
       "      Dinner    48.17\n",
       "Name: total_bill, dtype: float64"
      ]
     },
     "execution_count": 23,
     "metadata": {},
     "output_type": "execute_result"
    }
   ],
   "source": [
    "tips.groupby(['day','time'])['total_bill'].max()"
   ]
  },
  {
   "cell_type": "markdown",
   "metadata": {},
   "source": [
    "#### Q.Display the total_bill for each day for each male and female."
   ]
  },
  {
   "cell_type": "code",
   "execution_count": 24,
   "metadata": {
    "collapsed": true,
    "jupyter": {
     "outputs_hidden": true,
     "source_hidden": true
    }
   },
   "outputs": [
    {
     "data": {
      "text/html": [
       "<div>\n",
       "<style scoped>\n",
       "    .dataframe tbody tr th:only-of-type {\n",
       "        vertical-align: middle;\n",
       "    }\n",
       "\n",
       "    .dataframe tbody tr th {\n",
       "        vertical-align: top;\n",
       "    }\n",
       "\n",
       "    .dataframe thead tr th {\n",
       "        text-align: left;\n",
       "    }\n",
       "\n",
       "    .dataframe thead tr:last-of-type th {\n",
       "        text-align: right;\n",
       "    }\n",
       "</style>\n",
       "<table border=\"1\" class=\"dataframe\">\n",
       "  <thead>\n",
       "    <tr>\n",
       "      <th></th>\n",
       "      <th colspan=\"2\" halign=\"left\">tip</th>\n",
       "      <th colspan=\"2\" halign=\"left\">total_bill</th>\n",
       "    </tr>\n",
       "    <tr>\n",
       "      <th>smoker</th>\n",
       "      <th>Yes</th>\n",
       "      <th>No</th>\n",
       "      <th>Yes</th>\n",
       "      <th>No</th>\n",
       "    </tr>\n",
       "    <tr>\n",
       "      <th>day</th>\n",
       "      <th></th>\n",
       "      <th></th>\n",
       "      <th></th>\n",
       "      <th></th>\n",
       "    </tr>\n",
       "  </thead>\n",
       "  <tbody>\n",
       "    <tr>\n",
       "      <th>Thur</th>\n",
       "      <td>51.51</td>\n",
       "      <td>120.32</td>\n",
       "      <td>326.24</td>\n",
       "      <td>770.09</td>\n",
       "    </tr>\n",
       "    <tr>\n",
       "      <th>Fri</th>\n",
       "      <td>40.71</td>\n",
       "      <td>11.25</td>\n",
       "      <td>252.20</td>\n",
       "      <td>73.68</td>\n",
       "    </tr>\n",
       "    <tr>\n",
       "      <th>Sat</th>\n",
       "      <td>120.77</td>\n",
       "      <td>139.63</td>\n",
       "      <td>893.62</td>\n",
       "      <td>884.78</td>\n",
       "    </tr>\n",
       "    <tr>\n",
       "      <th>Sun</th>\n",
       "      <td>66.82</td>\n",
       "      <td>180.57</td>\n",
       "      <td>458.28</td>\n",
       "      <td>1168.88</td>\n",
       "    </tr>\n",
       "  </tbody>\n",
       "</table>\n",
       "</div>"
      ],
      "text/plain": [
       "           tip         total_bill         \n",
       "smoker     Yes      No        Yes       No\n",
       "day                                       \n",
       "Thur     51.51  120.32     326.24   770.09\n",
       "Fri      40.71   11.25     252.20    73.68\n",
       "Sat     120.77  139.63     893.62   884.78\n",
       "Sun      66.82  180.57     458.28  1168.88"
      ]
     },
     "execution_count": 24,
     "metadata": {},
     "output_type": "execute_result"
    }
   ],
   "source": [
    "tips.pivot_table(index='day',columns='smoker',aggfunc=sum,values = ['total_bill','tip'])"
   ]
  },
  {
   "cell_type": "markdown",
   "metadata": {},
   "source": [
    "#### Q.Find out percentage of tip amount to total_bill amount."
   ]
  },
  {
   "cell_type": "code",
   "execution_count": null,
   "metadata": {},
   "outputs": [],
   "source": []
  },
  {
   "cell_type": "code",
   "execution_count": null,
   "metadata": {},
   "outputs": [],
   "source": []
  },
  {
   "cell_type": "code",
   "execution_count": null,
   "metadata": {},
   "outputs": [],
   "source": []
  },
  {
   "cell_type": "code",
   "execution_count": null,
   "metadata": {},
   "outputs": [],
   "source": []
  },
  {
   "cell_type": "markdown",
   "metadata": {},
   "source": [
    "# Countries (Rest Counties API) DataFrame"
   ]
  },
  {
   "cell_type": "code",
   "execution_count": 6,
   "metadata": {},
   "outputs": [],
   "source": [
    "import pandas as pd"
   ]
  },
  {
   "cell_type": "code",
   "execution_count": 12,
   "metadata": {},
   "outputs": [],
   "source": [
    "df = pd.read_json(\"https://restcountries.eu/rest/v2/all\")"
   ]
  },
  {
   "cell_type": "code",
   "execution_count": 13,
   "metadata": {
    "collapsed": true,
    "jupyter": {
     "outputs_hidden": true,
     "source_hidden": true
    }
   },
   "outputs": [
    {
     "name": "stdout",
     "output_type": "stream",
     "text": [
      "<class 'pandas.core.frame.DataFrame'>\n",
      "RangeIndex: 250 entries, 0 to 249\n",
      "Data columns (total 24 columns):\n",
      " #   Column          Non-Null Count  Dtype  \n",
      "---  ------          --------------  -----  \n",
      " 0   name            250 non-null    object \n",
      " 1   topLevelDomain  250 non-null    object \n",
      " 2   alpha2Code      250 non-null    object \n",
      " 3   alpha3Code      250 non-null    object \n",
      " 4   callingCodes    250 non-null    object \n",
      " 5   capital         250 non-null    object \n",
      " 6   altSpellings    250 non-null    object \n",
      " 7   region          250 non-null    object \n",
      " 8   subregion       250 non-null    object \n",
      " 9   population      250 non-null    int64  \n",
      " 10  latlng          250 non-null    object \n",
      " 11  demonym         250 non-null    object \n",
      " 12  area            240 non-null    float64\n",
      " 13  gini            153 non-null    float64\n",
      " 14  timezones       250 non-null    object \n",
      " 15  borders         250 non-null    object \n",
      " 16  nativeName      250 non-null    object \n",
      " 17  numericCode     249 non-null    float64\n",
      " 18  currencies      250 non-null    object \n",
      " 19  languages       250 non-null    object \n",
      " 20  translations    250 non-null    object \n",
      " 21  flag            250 non-null    object \n",
      " 22  regionalBlocs   250 non-null    object \n",
      " 23  cioc            247 non-null    object \n",
      "dtypes: float64(3), int64(1), object(20)\n",
      "memory usage: 47.0+ KB\n"
     ]
    }
   ],
   "source": [
    "df.info()"
   ]
  },
  {
   "cell_type": "markdown",
   "metadata": {},
   "source": [
    "### Q.How many Countries are there in each continent?"
   ]
  },
  {
   "cell_type": "code",
   "execution_count": 16,
   "metadata": {
    "collapsed": true,
    "jupyter": {
     "outputs_hidden": true,
     "source_hidden": true
    }
   },
   "outputs": [
    {
     "data": {
      "text/plain": [
       "region\n",
       "             2\n",
       "Africa      60\n",
       "Americas    57\n",
       "Asia        50\n",
       "Europe      53\n",
       "Oceania     27\n",
       "Polar        1\n",
       "Name: name, dtype: int64"
      ]
     },
     "execution_count": 16,
     "metadata": {},
     "output_type": "execute_result"
    }
   ],
   "source": [
    "df.groupby('region')['name'].count()"
   ]
  },
  {
   "cell_type": "markdown",
   "metadata": {},
   "source": [
    "### Q.Display the population of each continent?"
   ]
  },
  {
   "cell_type": "code",
   "execution_count": 38,
   "metadata": {
    "collapsed": true,
    "jupyter": {
     "outputs_hidden": true,
     "source_hidden": true
    }
   },
   "outputs": [
    {
     "data": {
      "text/plain": [
       "region\n",
       "                     0\n",
       "Africa      1185705747\n",
       "Americas     990317681\n",
       "Asia        4386254784\n",
       "Europe       746688182\n",
       "Oceania       40169837\n",
       "Polar             1000\n",
       "Name: population, dtype: int64"
      ]
     },
     "execution_count": 38,
     "metadata": {},
     "output_type": "execute_result"
    }
   ],
   "source": [
    "df.groupby('region')['population'].sum()"
   ]
  },
  {
   "cell_type": "markdown",
   "metadata": {},
   "source": [
    "### Q.Display the area of each continent?"
   ]
  },
  {
   "cell_type": "code",
   "execution_count": 39,
   "metadata": {
    "collapsed": true,
    "jupyter": {
     "outputs_hidden": true,
     "source_hidden": true
    }
   },
   "outputs": [
    {
     "data": {
      "text/plain": [
       "region\n",
       "                 461.00\n",
       "Africa      30323491.00\n",
       "Americas    42248044.36\n",
       "Asia        32064971.00\n",
       "Europe      23138282.46\n",
       "Oceania      8515313.00\n",
       "Polar       14000000.00\n",
       "Name: area, dtype: float64"
      ]
     },
     "execution_count": 39,
     "metadata": {},
     "output_type": "execute_result"
    }
   ],
   "source": [
    "df.groupby('region')['area'].sum()"
   ]
  },
  {
   "cell_type": "markdown",
   "metadata": {},
   "source": [
    "### Q.Display list of countries that start with letter 'I'."
   ]
  },
  {
   "cell_type": "code",
   "execution_count": 40,
   "metadata": {
    "collapsed": true,
    "jupyter": {
     "outputs_hidden": true,
     "source_hidden": true
    }
   },
   "outputs": [
    {
     "name": "stdout",
     "output_type": "stream",
     "text": [
      "Iceland\n",
      "India\n",
      "Indonesia\n",
      "Iran (Islamic Republic of)\n",
      "Iraq\n",
      "Ireland\n",
      "Isle of Man\n",
      "Israel\n",
      "Italy\n"
     ]
    }
   ],
   "source": [
    "for name in df['name']:\n",
    "    if name.startswith('I'):\n",
    "        print (name)"
   ]
  },
  {
   "cell_type": "markdown",
   "metadata": {},
   "source": [
    "### Q.Display average population in each region?"
   ]
  },
  {
   "cell_type": "code",
   "execution_count": 42,
   "metadata": {
    "collapsed": true,
    "jupyter": {
     "outputs_hidden": true,
     "source_hidden": true
    }
   },
   "outputs": [
    {
     "data": {
      "text/plain": [
       "region\n",
       "            0.000000e+00\n",
       "Africa      1.976176e+07\n",
       "Americas    1.737399e+07\n",
       "Asia        8.772510e+07\n",
       "Europe      1.408846e+07\n",
       "Oceania     1.487772e+06\n",
       "Polar       1.000000e+03\n",
       "Name: population, dtype: float64"
      ]
     },
     "execution_count": 42,
     "metadata": {},
     "output_type": "execute_result"
    }
   ],
   "source": [
    "df.groupby('region')['population'].mean()"
   ]
  },
  {
   "cell_type": "markdown",
   "metadata": {},
   "source": [
    "### Q.Display which Country has highest population."
   ]
  },
  {
   "cell_type": "code",
   "execution_count": 43,
   "metadata": {
    "collapsed": true,
    "jupyter": {
     "outputs_hidden": true,
     "source_hidden": true
    }
   },
   "outputs": [
    {
     "data": {
      "text/plain": [
       "name          Åland Islands\n",
       "population       1377422166\n",
       "dtype: object"
      ]
     },
     "execution_count": 43,
     "metadata": {},
     "output_type": "execute_result"
    }
   ],
   "source": [
    "df[['name','population']].max()"
   ]
  },
  {
   "cell_type": "markdown",
   "metadata": {},
   "source": [
    "### Q.Display Columns that have NULL Values."
   ]
  },
  {
   "cell_type": "code",
   "execution_count": 69,
   "metadata": {
    "collapsed": true,
    "jupyter": {
     "outputs_hidden": true,
     "source_hidden": true
    }
   },
   "outputs": [
    {
     "data": {
      "text/plain": [
       "name              False\n",
       "topLevelDomain    False\n",
       "alpha2Code        False\n",
       "alpha3Code        False\n",
       "callingCodes      False\n",
       "capital           False\n",
       "altSpellings      False\n",
       "region            False\n",
       "subregion         False\n",
       "population        False\n",
       "latlng            False\n",
       "demonym           False\n",
       "area               True\n",
       "gini               True\n",
       "timezones         False\n",
       "borders           False\n",
       "nativeName        False\n",
       "numericCode        True\n",
       "currencies        False\n",
       "languages         False\n",
       "translations      False\n",
       "flag              False\n",
       "regionalBlocs     False\n",
       "cioc               True\n",
       "dtype: bool"
      ]
     },
     "execution_count": 69,
     "metadata": {},
     "output_type": "execute_result"
    }
   ],
   "source": [
    "df.isna().any()"
   ]
  },
  {
   "cell_type": "markdown",
   "metadata": {},
   "source": [
    "### Q.Display list of countries that have NULL values in 'area' column."
   ]
  },
  {
   "cell_type": "code",
   "execution_count": 52,
   "metadata": {
    "collapsed": true,
    "jupyter": {
     "outputs_hidden": true,
     "source_hidden": true
    }
   },
   "outputs": [
    {
     "data": {
      "text/html": [
       "<div>\n",
       "<style scoped>\n",
       "    .dataframe tbody tr th:only-of-type {\n",
       "        vertical-align: middle;\n",
       "    }\n",
       "\n",
       "    .dataframe tbody tr th {\n",
       "        vertical-align: top;\n",
       "    }\n",
       "\n",
       "    .dataframe thead th {\n",
       "        text-align: right;\n",
       "    }\n",
       "</style>\n",
       "<table border=\"1\" class=\"dataframe\">\n",
       "  <thead>\n",
       "    <tr style=\"text-align: right;\">\n",
       "      <th></th>\n",
       "      <th>name</th>\n",
       "      <th>area</th>\n",
       "    </tr>\n",
       "  </thead>\n",
       "  <tbody>\n",
       "    <tr>\n",
       "      <th>33</th>\n",
       "      <td>United States Minor Outlying Islands</td>\n",
       "      <td>NaN</td>\n",
       "    </tr>\n",
       "    <tr>\n",
       "      <th>78</th>\n",
       "      <td>French Guiana</td>\n",
       "      <td>NaN</td>\n",
       "    </tr>\n",
       "    <tr>\n",
       "      <th>90</th>\n",
       "      <td>Guadeloupe</td>\n",
       "      <td>NaN</td>\n",
       "    </tr>\n",
       "    <tr>\n",
       "      <th>140</th>\n",
       "      <td>Martinique</td>\n",
       "      <td>NaN</td>\n",
       "    </tr>\n",
       "    <tr>\n",
       "      <th>143</th>\n",
       "      <td>Mayotte</td>\n",
       "      <td>NaN</td>\n",
       "    </tr>\n",
       "    <tr>\n",
       "      <th>171</th>\n",
       "      <td>Palestine, State of</td>\n",
       "      <td>NaN</td>\n",
       "    </tr>\n",
       "    <tr>\n",
       "      <th>183</th>\n",
       "      <td>Réunion</td>\n",
       "      <td>NaN</td>\n",
       "    </tr>\n",
       "    <tr>\n",
       "      <th>188</th>\n",
       "      <td>Saint Helena, Ascension and Tristan da Cunha</td>\n",
       "      <td>NaN</td>\n",
       "    </tr>\n",
       "    <tr>\n",
       "      <th>209</th>\n",
       "      <td>South Georgia and the South Sandwich Islands</td>\n",
       "      <td>NaN</td>\n",
       "    </tr>\n",
       "    <tr>\n",
       "      <th>216</th>\n",
       "      <td>Svalbard and Jan Mayen</td>\n",
       "      <td>NaN</td>\n",
       "    </tr>\n",
       "  </tbody>\n",
       "</table>\n",
       "</div>"
      ],
      "text/plain": [
       "                                             name  area\n",
       "33           United States Minor Outlying Islands   NaN\n",
       "78                                  French Guiana   NaN\n",
       "90                                     Guadeloupe   NaN\n",
       "140                                    Martinique   NaN\n",
       "143                                       Mayotte   NaN\n",
       "171                           Palestine, State of   NaN\n",
       "183                                       Réunion   NaN\n",
       "188  Saint Helena, Ascension and Tristan da Cunha   NaN\n",
       "209  South Georgia and the South Sandwich Islands   NaN\n",
       "216                        Svalbard and Jan Mayen   NaN"
      ]
     },
     "execution_count": 52,
     "metadata": {},
     "output_type": "execute_result"
    }
   ],
   "source": [
    "df[df['area'].isna()][['name','area']]"
   ]
  },
  {
   "cell_type": "code",
   "execution_count": null,
   "metadata": {
    "jupyter": {
     "source_hidden": true
    }
   },
   "outputs": [],
   "source": [
    "df.loc[df['area'].isnull(),['name','region']] # Alternate Solution"
   ]
  },
  {
   "cell_type": "markdown",
   "metadata": {},
   "source": [
    "### Q.Display names of countries which have string length less than 5 characters."
   ]
  },
  {
   "cell_type": "code",
   "execution_count": 70,
   "metadata": {
    "collapsed": true,
    "jupyter": {
     "outputs_hidden": true,
     "source_hidden": true
    }
   },
   "outputs": [
    {
     "data": {
      "text/html": [
       "<div>\n",
       "<style scoped>\n",
       "    .dataframe tbody tr th:only-of-type {\n",
       "        vertical-align: middle;\n",
       "    }\n",
       "\n",
       "    .dataframe tbody tr th {\n",
       "        vertical-align: top;\n",
       "    }\n",
       "\n",
       "    .dataframe thead th {\n",
       "        text-align: right;\n",
       "    }\n",
       "</style>\n",
       "<table border=\"1\" class=\"dataframe\">\n",
       "  <thead>\n",
       "    <tr style=\"text-align: right;\">\n",
       "      <th></th>\n",
       "      <th>name</th>\n",
       "      <th>topLevelDomain</th>\n",
       "      <th>alpha2Code</th>\n",
       "      <th>alpha3Code</th>\n",
       "      <th>callingCodes</th>\n",
       "      <th>capital</th>\n",
       "      <th>altSpellings</th>\n",
       "      <th>region</th>\n",
       "      <th>subregion</th>\n",
       "      <th>population</th>\n",
       "      <th>...</th>\n",
       "      <th>timezones</th>\n",
       "      <th>borders</th>\n",
       "      <th>nativeName</th>\n",
       "      <th>numericCode</th>\n",
       "      <th>currencies</th>\n",
       "      <th>languages</th>\n",
       "      <th>translations</th>\n",
       "      <th>flag</th>\n",
       "      <th>regionalBlocs</th>\n",
       "      <th>cioc</th>\n",
       "    </tr>\n",
       "  </thead>\n",
       "  <tbody>\n",
       "    <tr>\n",
       "      <th>46</th>\n",
       "      <td>Chad</td>\n",
       "      <td>[.td]</td>\n",
       "      <td>TD</td>\n",
       "      <td>TCD</td>\n",
       "      <td>[235]</td>\n",
       "      <td>N'Djamena</td>\n",
       "      <td>[TD, Tchad, Republic of Chad, République du Tc...</td>\n",
       "      <td>Africa</td>\n",
       "      <td>Middle Africa</td>\n",
       "      <td>14497000</td>\n",
       "      <td>...</td>\n",
       "      <td>[UTC+01:00]</td>\n",
       "      <td>[CMR, CAF, LBY, NER, NGA, SSD]</td>\n",
       "      <td>Tchad</td>\n",
       "      <td>148.0</td>\n",
       "      <td>[{'code': 'XAF', 'name': 'Central African CFA ...</td>\n",
       "      <td>[{'iso639_1': 'fr', 'iso639_2': 'fra', 'name':...</td>\n",
       "      <td>{'de': 'Tschad', 'es': 'Chad', 'fr': 'Tchad', ...</td>\n",
       "      <td>https://restcountries.eu/data/tcd.svg</td>\n",
       "      <td>[{'acronym': 'AU', 'name': 'African Union', 'o...</td>\n",
       "      <td>CHA</td>\n",
       "    </tr>\n",
       "    <tr>\n",
       "      <th>58</th>\n",
       "      <td>Cuba</td>\n",
       "      <td>[.cu]</td>\n",
       "      <td>CU</td>\n",
       "      <td>CUB</td>\n",
       "      <td>[53]</td>\n",
       "      <td>Havana</td>\n",
       "      <td>[CU, Republic of Cuba, República de Cuba]</td>\n",
       "      <td>Americas</td>\n",
       "      <td>Caribbean</td>\n",
       "      <td>11239004</td>\n",
       "      <td>...</td>\n",
       "      <td>[UTC-05:00]</td>\n",
       "      <td>[]</td>\n",
       "      <td>Cuba</td>\n",
       "      <td>192.0</td>\n",
       "      <td>[{'code': 'CUC', 'name': 'Cuban convertible pe...</td>\n",
       "      <td>[{'iso639_1': 'es', 'iso639_2': 'spa', 'name':...</td>\n",
       "      <td>{'de': 'Kuba', 'es': 'Cuba', 'fr': 'Cuba', 'ja...</td>\n",
       "      <td>https://restcountries.eu/data/cub.svg</td>\n",
       "      <td>[]</td>\n",
       "      <td>CUB</td>\n",
       "    </tr>\n",
       "    <tr>\n",
       "      <th>75</th>\n",
       "      <td>Fiji</td>\n",
       "      <td>[.fj]</td>\n",
       "      <td>FJ</td>\n",
       "      <td>FJI</td>\n",
       "      <td>[679]</td>\n",
       "      <td>Suva</td>\n",
       "      <td>[FJ, Viti, Republic of Fiji, Matanitu ko Viti,...</td>\n",
       "      <td>Oceania</td>\n",
       "      <td>Melanesia</td>\n",
       "      <td>867000</td>\n",
       "      <td>...</td>\n",
       "      <td>[UTC+12:00]</td>\n",
       "      <td>[]</td>\n",
       "      <td>Fiji</td>\n",
       "      <td>242.0</td>\n",
       "      <td>[{'code': 'FJD', 'name': 'Fijian dollar', 'sym...</td>\n",
       "      <td>[{'iso639_1': 'en', 'iso639_2': 'eng', 'name':...</td>\n",
       "      <td>{'de': 'Fidschi', 'es': 'Fiyi', 'fr': 'Fidji',...</td>\n",
       "      <td>https://restcountries.eu/data/fji.svg</td>\n",
       "      <td>[]</td>\n",
       "      <td>FIJ</td>\n",
       "    </tr>\n",
       "    <tr>\n",
       "      <th>91</th>\n",
       "      <td>Guam</td>\n",
       "      <td>[.gu]</td>\n",
       "      <td>GU</td>\n",
       "      <td>GUM</td>\n",
       "      <td>[1671]</td>\n",
       "      <td>Hagåtña</td>\n",
       "      <td>[GU, Guåhån]</td>\n",
       "      <td>Oceania</td>\n",
       "      <td>Micronesia</td>\n",
       "      <td>184200</td>\n",
       "      <td>...</td>\n",
       "      <td>[UTC+10:00]</td>\n",
       "      <td>[]</td>\n",
       "      <td>Guam</td>\n",
       "      <td>316.0</td>\n",
       "      <td>[{'code': 'USD', 'name': 'United States dollar...</td>\n",
       "      <td>[{'iso639_1': 'en', 'iso639_2': 'eng', 'name':...</td>\n",
       "      <td>{'de': 'Guam', 'es': 'Guam', 'fr': 'Guam', 'ja...</td>\n",
       "      <td>https://restcountries.eu/data/gum.svg</td>\n",
       "      <td>[]</td>\n",
       "      <td>GUM</td>\n",
       "    </tr>\n",
       "    <tr>\n",
       "      <th>108</th>\n",
       "      <td>Iraq</td>\n",
       "      <td>[.iq]</td>\n",
       "      <td>IQ</td>\n",
       "      <td>IRQ</td>\n",
       "      <td>[964]</td>\n",
       "      <td>Baghdad</td>\n",
       "      <td>[IQ, Republic of Iraq, Jumhūriyyat al-‘Irāq]</td>\n",
       "      <td>Asia</td>\n",
       "      <td>Western Asia</td>\n",
       "      <td>37883543</td>\n",
       "      <td>...</td>\n",
       "      <td>[UTC+03:00]</td>\n",
       "      <td>[IRN, JOR, KWT, SAU, SYR, TUR]</td>\n",
       "      <td>العراق</td>\n",
       "      <td>368.0</td>\n",
       "      <td>[{'code': 'IQD', 'name': 'Iraqi dinar', 'symbo...</td>\n",
       "      <td>[{'iso639_1': 'ar', 'iso639_2': 'ara', 'name':...</td>\n",
       "      <td>{'de': 'Irak', 'es': 'Irak', 'fr': 'Irak', 'ja...</td>\n",
       "      <td>https://restcountries.eu/data/irq.svg</td>\n",
       "      <td>[{'acronym': 'AL', 'name': 'Arab League', 'oth...</td>\n",
       "      <td>IRQ</td>\n",
       "    </tr>\n",
       "    <tr>\n",
       "      <th>137</th>\n",
       "      <td>Mali</td>\n",
       "      <td>[.ml]</td>\n",
       "      <td>ML</td>\n",
       "      <td>MLI</td>\n",
       "      <td>[223]</td>\n",
       "      <td>Bamako</td>\n",
       "      <td>[ML, Republic of Mali, République du Mali]</td>\n",
       "      <td>Africa</td>\n",
       "      <td>Western Africa</td>\n",
       "      <td>18135000</td>\n",
       "      <td>...</td>\n",
       "      <td>[UTC]</td>\n",
       "      <td>[DZA, BFA, GIN, CIV, MRT, NER, SEN]</td>\n",
       "      <td>Mali</td>\n",
       "      <td>466.0</td>\n",
       "      <td>[{'code': 'XOF', 'name': 'West African CFA fra...</td>\n",
       "      <td>[{'iso639_1': 'fr', 'iso639_2': 'fra', 'name':...</td>\n",
       "      <td>{'de': 'Mali', 'es': 'Mali', 'fr': 'Mali', 'ja...</td>\n",
       "      <td>https://restcountries.eu/data/mli.svg</td>\n",
       "      <td>[{'acronym': 'AU', 'name': 'African Union', 'o...</td>\n",
       "      <td>MLI</td>\n",
       "    </tr>\n",
       "    <tr>\n",
       "      <th>163</th>\n",
       "      <td>Niue</td>\n",
       "      <td>[.nu]</td>\n",
       "      <td>NU</td>\n",
       "      <td>NIU</td>\n",
       "      <td>[683]</td>\n",
       "      <td>Alofi</td>\n",
       "      <td>[NU]</td>\n",
       "      <td>Oceania</td>\n",
       "      <td>Polynesia</td>\n",
       "      <td>1470</td>\n",
       "      <td>...</td>\n",
       "      <td>[UTC-11:00]</td>\n",
       "      <td>[]</td>\n",
       "      <td>Niuē</td>\n",
       "      <td>570.0</td>\n",
       "      <td>[{'code': 'NZD', 'name': 'New Zealand dollar',...</td>\n",
       "      <td>[{'iso639_1': 'en', 'iso639_2': 'eng', 'name':...</td>\n",
       "      <td>{'de': 'Niue', 'es': 'Niue', 'fr': 'Niue', 'ja...</td>\n",
       "      <td>https://restcountries.eu/data/niu.svg</td>\n",
       "      <td>[]</td>\n",
       "      <td></td>\n",
       "    </tr>\n",
       "    <tr>\n",
       "      <th>168</th>\n",
       "      <td>Oman</td>\n",
       "      <td>[.om]</td>\n",
       "      <td>OM</td>\n",
       "      <td>OMN</td>\n",
       "      <td>[968]</td>\n",
       "      <td>Muscat</td>\n",
       "      <td>[OM, Sultanate of Oman, Salṭanat ʻUmān]</td>\n",
       "      <td>Asia</td>\n",
       "      <td>Western Asia</td>\n",
       "      <td>4420133</td>\n",
       "      <td>...</td>\n",
       "      <td>[UTC+04:00]</td>\n",
       "      <td>[SAU, ARE, YEM]</td>\n",
       "      <td>عمان</td>\n",
       "      <td>512.0</td>\n",
       "      <td>[{'code': 'OMR', 'name': 'Omani rial', 'symbol...</td>\n",
       "      <td>[{'iso639_1': 'ar', 'iso639_2': 'ara', 'name':...</td>\n",
       "      <td>{'de': 'Oman', 'es': 'Omán', 'fr': 'Oman', 'ja...</td>\n",
       "      <td>https://restcountries.eu/data/omn.svg</td>\n",
       "      <td>[{'acronym': 'AL', 'name': 'Arab League', 'oth...</td>\n",
       "      <td>OMA</td>\n",
       "    </tr>\n",
       "    <tr>\n",
       "      <th>175</th>\n",
       "      <td>Peru</td>\n",
       "      <td>[.pe]</td>\n",
       "      <td>PE</td>\n",
       "      <td>PER</td>\n",
       "      <td>[51]</td>\n",
       "      <td>Lima</td>\n",
       "      <td>[PE, Republic of Peru,  República del Perú]</td>\n",
       "      <td>Americas</td>\n",
       "      <td>South America</td>\n",
       "      <td>31488700</td>\n",
       "      <td>...</td>\n",
       "      <td>[UTC-05:00]</td>\n",
       "      <td>[BOL, BRA, CHL, COL, ECU]</td>\n",
       "      <td>Perú</td>\n",
       "      <td>604.0</td>\n",
       "      <td>[{'code': 'PEN', 'name': 'Peruvian sol', 'symb...</td>\n",
       "      <td>[{'iso639_1': 'es', 'iso639_2': 'spa', 'name':...</td>\n",
       "      <td>{'de': 'Peru', 'es': 'Perú', 'fr': 'Pérou', 'j...</td>\n",
       "      <td>https://restcountries.eu/data/per.svg</td>\n",
       "      <td>[{'acronym': 'PA', 'name': 'Pacific Alliance',...</td>\n",
       "      <td>PER</td>\n",
       "    </tr>\n",
       "    <tr>\n",
       "      <th>226</th>\n",
       "      <td>Togo</td>\n",
       "      <td>[.tg]</td>\n",
       "      <td>TG</td>\n",
       "      <td>TGO</td>\n",
       "      <td>[228]</td>\n",
       "      <td>Lomé</td>\n",
       "      <td>[TG, Togolese, Togolese Republic, République T...</td>\n",
       "      <td>Africa</td>\n",
       "      <td>Western Africa</td>\n",
       "      <td>7143000</td>\n",
       "      <td>...</td>\n",
       "      <td>[UTC]</td>\n",
       "      <td>[BEN, BFA, GHA]</td>\n",
       "      <td>Togo</td>\n",
       "      <td>768.0</td>\n",
       "      <td>[{'code': 'XOF', 'name': 'West African CFA fra...</td>\n",
       "      <td>[{'iso639_1': 'fr', 'iso639_2': 'fra', 'name':...</td>\n",
       "      <td>{'de': 'Togo', 'es': 'Togo', 'fr': 'Togo', 'ja...</td>\n",
       "      <td>https://restcountries.eu/data/tgo.svg</td>\n",
       "      <td>[{'acronym': 'AU', 'name': 'African Union', 'o...</td>\n",
       "      <td>TOG</td>\n",
       "    </tr>\n",
       "  </tbody>\n",
       "</table>\n",
       "<p>10 rows × 24 columns</p>\n",
       "</div>"
      ],
      "text/plain": [
       "     name topLevelDomain alpha2Code alpha3Code callingCodes    capital  \\\n",
       "46   Chad          [.td]         TD        TCD        [235]  N'Djamena   \n",
       "58   Cuba          [.cu]         CU        CUB         [53]     Havana   \n",
       "75   Fiji          [.fj]         FJ        FJI        [679]       Suva   \n",
       "91   Guam          [.gu]         GU        GUM       [1671]    Hagåtña   \n",
       "108  Iraq          [.iq]         IQ        IRQ        [964]    Baghdad   \n",
       "137  Mali          [.ml]         ML        MLI        [223]     Bamako   \n",
       "163  Niue          [.nu]         NU        NIU        [683]      Alofi   \n",
       "168  Oman          [.om]         OM        OMN        [968]     Muscat   \n",
       "175  Peru          [.pe]         PE        PER         [51]       Lima   \n",
       "226  Togo          [.tg]         TG        TGO        [228]       Lomé   \n",
       "\n",
       "                                          altSpellings    region  \\\n",
       "46   [TD, Tchad, Republic of Chad, République du Tc...    Africa   \n",
       "58           [CU, Republic of Cuba, República de Cuba]  Americas   \n",
       "75   [FJ, Viti, Republic of Fiji, Matanitu ko Viti,...   Oceania   \n",
       "91                                        [GU, Guåhån]   Oceania   \n",
       "108       [IQ, Republic of Iraq, Jumhūriyyat al-‘Irāq]      Asia   \n",
       "137         [ML, Republic of Mali, République du Mali]    Africa   \n",
       "163                                               [NU]   Oceania   \n",
       "168            [OM, Sultanate of Oman, Salṭanat ʻUmān]      Asia   \n",
       "175        [PE, Republic of Peru,  República del Perú]  Americas   \n",
       "226  [TG, Togolese, Togolese Republic, République T...    Africa   \n",
       "\n",
       "          subregion  population  ...    timezones  \\\n",
       "46    Middle Africa    14497000  ...  [UTC+01:00]   \n",
       "58        Caribbean    11239004  ...  [UTC-05:00]   \n",
       "75        Melanesia      867000  ...  [UTC+12:00]   \n",
       "91       Micronesia      184200  ...  [UTC+10:00]   \n",
       "108    Western Asia    37883543  ...  [UTC+03:00]   \n",
       "137  Western Africa    18135000  ...        [UTC]   \n",
       "163       Polynesia        1470  ...  [UTC-11:00]   \n",
       "168    Western Asia     4420133  ...  [UTC+04:00]   \n",
       "175   South America    31488700  ...  [UTC-05:00]   \n",
       "226  Western Africa     7143000  ...        [UTC]   \n",
       "\n",
       "                                 borders  nativeName  numericCode  \\\n",
       "46        [CMR, CAF, LBY, NER, NGA, SSD]       Tchad        148.0   \n",
       "58                                    []        Cuba        192.0   \n",
       "75                                    []        Fiji        242.0   \n",
       "91                                    []        Guam        316.0   \n",
       "108       [IRN, JOR, KWT, SAU, SYR, TUR]      العراق        368.0   \n",
       "137  [DZA, BFA, GIN, CIV, MRT, NER, SEN]        Mali        466.0   \n",
       "163                                   []        Niuē        570.0   \n",
       "168                      [SAU, ARE, YEM]        عمان        512.0   \n",
       "175            [BOL, BRA, CHL, COL, ECU]        Perú        604.0   \n",
       "226                      [BEN, BFA, GHA]        Togo        768.0   \n",
       "\n",
       "                                            currencies  \\\n",
       "46   [{'code': 'XAF', 'name': 'Central African CFA ...   \n",
       "58   [{'code': 'CUC', 'name': 'Cuban convertible pe...   \n",
       "75   [{'code': 'FJD', 'name': 'Fijian dollar', 'sym...   \n",
       "91   [{'code': 'USD', 'name': 'United States dollar...   \n",
       "108  [{'code': 'IQD', 'name': 'Iraqi dinar', 'symbo...   \n",
       "137  [{'code': 'XOF', 'name': 'West African CFA fra...   \n",
       "163  [{'code': 'NZD', 'name': 'New Zealand dollar',...   \n",
       "168  [{'code': 'OMR', 'name': 'Omani rial', 'symbol...   \n",
       "175  [{'code': 'PEN', 'name': 'Peruvian sol', 'symb...   \n",
       "226  [{'code': 'XOF', 'name': 'West African CFA fra...   \n",
       "\n",
       "                                             languages  \\\n",
       "46   [{'iso639_1': 'fr', 'iso639_2': 'fra', 'name':...   \n",
       "58   [{'iso639_1': 'es', 'iso639_2': 'spa', 'name':...   \n",
       "75   [{'iso639_1': 'en', 'iso639_2': 'eng', 'name':...   \n",
       "91   [{'iso639_1': 'en', 'iso639_2': 'eng', 'name':...   \n",
       "108  [{'iso639_1': 'ar', 'iso639_2': 'ara', 'name':...   \n",
       "137  [{'iso639_1': 'fr', 'iso639_2': 'fra', 'name':...   \n",
       "163  [{'iso639_1': 'en', 'iso639_2': 'eng', 'name':...   \n",
       "168  [{'iso639_1': 'ar', 'iso639_2': 'ara', 'name':...   \n",
       "175  [{'iso639_1': 'es', 'iso639_2': 'spa', 'name':...   \n",
       "226  [{'iso639_1': 'fr', 'iso639_2': 'fra', 'name':...   \n",
       "\n",
       "                                          translations  \\\n",
       "46   {'de': 'Tschad', 'es': 'Chad', 'fr': 'Tchad', ...   \n",
       "58   {'de': 'Kuba', 'es': 'Cuba', 'fr': 'Cuba', 'ja...   \n",
       "75   {'de': 'Fidschi', 'es': 'Fiyi', 'fr': 'Fidji',...   \n",
       "91   {'de': 'Guam', 'es': 'Guam', 'fr': 'Guam', 'ja...   \n",
       "108  {'de': 'Irak', 'es': 'Irak', 'fr': 'Irak', 'ja...   \n",
       "137  {'de': 'Mali', 'es': 'Mali', 'fr': 'Mali', 'ja...   \n",
       "163  {'de': 'Niue', 'es': 'Niue', 'fr': 'Niue', 'ja...   \n",
       "168  {'de': 'Oman', 'es': 'Omán', 'fr': 'Oman', 'ja...   \n",
       "175  {'de': 'Peru', 'es': 'Perú', 'fr': 'Pérou', 'j...   \n",
       "226  {'de': 'Togo', 'es': 'Togo', 'fr': 'Togo', 'ja...   \n",
       "\n",
       "                                      flag  \\\n",
       "46   https://restcountries.eu/data/tcd.svg   \n",
       "58   https://restcountries.eu/data/cub.svg   \n",
       "75   https://restcountries.eu/data/fji.svg   \n",
       "91   https://restcountries.eu/data/gum.svg   \n",
       "108  https://restcountries.eu/data/irq.svg   \n",
       "137  https://restcountries.eu/data/mli.svg   \n",
       "163  https://restcountries.eu/data/niu.svg   \n",
       "168  https://restcountries.eu/data/omn.svg   \n",
       "175  https://restcountries.eu/data/per.svg   \n",
       "226  https://restcountries.eu/data/tgo.svg   \n",
       "\n",
       "                                         regionalBlocs cioc  \n",
       "46   [{'acronym': 'AU', 'name': 'African Union', 'o...  CHA  \n",
       "58                                                  []  CUB  \n",
       "75                                                  []  FIJ  \n",
       "91                                                  []  GUM  \n",
       "108  [{'acronym': 'AL', 'name': 'Arab League', 'oth...  IRQ  \n",
       "137  [{'acronym': 'AU', 'name': 'African Union', 'o...  MLI  \n",
       "163                                                 []       \n",
       "168  [{'acronym': 'AL', 'name': 'Arab League', 'oth...  OMA  \n",
       "175  [{'acronym': 'PA', 'name': 'Pacific Alliance',...  PER  \n",
       "226  [{'acronym': 'AU', 'name': 'African Union', 'o...  TOG  \n",
       "\n",
       "[10 rows x 24 columns]"
      ]
     },
     "execution_count": 70,
     "metadata": {},
     "output_type": "execute_result"
    }
   ],
   "source": [
    "df[df.name.str.len()<5]"
   ]
  },
  {
   "cell_type": "code",
   "execution_count": null,
   "metadata": {},
   "outputs": [],
   "source": []
  },
  {
   "cell_type": "code",
   "execution_count": null,
   "metadata": {},
   "outputs": [],
   "source": []
  },
  {
   "cell_type": "code",
   "execution_count": null,
   "metadata": {},
   "outputs": [],
   "source": []
  },
  {
   "cell_type": "code",
   "execution_count": null,
   "metadata": {},
   "outputs": [],
   "source": []
  }
 ],
 "metadata": {
  "kernelspec": {
   "display_name": "Python 3",
   "language": "python",
   "name": "python3"
  },
  "language_info": {
   "codemirror_mode": {
    "name": "ipython",
    "version": 3
   },
   "file_extension": ".py",
   "mimetype": "text/x-python",
   "name": "python",
   "nbconvert_exporter": "python",
   "pygments_lexer": "ipython3",
   "version": "3.7.6"
  }
 },
 "nbformat": 4,
 "nbformat_minor": 4
}
